{
  "nbformat": 4,
  "nbformat_minor": 2,
  "metadata": {
    "colab": {
      "name": "ActividadIntegradora2.ipynb",
      "provenance": [],
      "collapsed_sections": []
    },
    "kernelspec": {
      "name": "python3",
      "display_name": "Python 3.8.5 64-bit ('base': conda)"
    },
    "language_info": {
      "name": "python",
      "version": "3.8.5",
      "mimetype": "text/x-python",
      "codemirror_mode": {
        "name": "ipython",
        "version": 3
      },
      "pygments_lexer": "ipython3",
      "nbconvert_exporter": "python",
      "file_extension": ".py"
    },
    "interpreter": {
      "hash": "967147134227886bacfbbfd1bd4a8bb34440cd3079f701c648e955fd13b4f16c"
    }
  },
  "cells": [
    {
      "cell_type": "code",
      "execution_count": null,
      "source": [
        "import nltk\n",
        "import sklearn\n",
        "import matplotlib\n",
        "import matplotlib.pyplot as plt\n",
        "matplotlib.use('Agg')\n",
        "import numpy as np\n",
        "# if using a Jupyter notebook, include:\n",
        "%matplotlib inline"
      ],
      "outputs": [],
      "metadata": {
        "id": "Vs1_ilJP1C71"
      }
    },
    {
      "cell_type": "markdown",
      "source": [
        "Tutorial 1"
      ],
      "metadata": {
        "id": "qar97h1SUjWI"
      }
    },
    {
      "cell_type": "code",
      "execution_count": null,
      "source": [
        "nltk.download()"
      ],
      "outputs": [],
      "metadata": {
        "id": "q2H86rFW1JAz"
      }
    },
    {
      "cell_type": "code",
      "execution_count": null,
      "source": [
        "# tokenizing - word tokenizers ... sentence tokenizers . Separate by words ... separate by sentences.\n",
        "# lexicon and corporas. \n",
        "# corporas - body of text all around the same thing.\n",
        "# lexicon - words and their meanings."
      ],
      "outputs": [],
      "metadata": {
        "id": "jUTsD9eQ-DNi"
      }
    },
    {
      "cell_type": "code",
      "execution_count": null,
      "source": [
        "from nltk.tokenize import sent_tokenize, word_tokenize\n",
        "\n",
        "example_text = \"Hello Mr. Smith, how are you doing today? The wheater is great and Python is awesome. The sky is pinish-blue. You should not eat cardboard.\"\n",
        "\n",
        "\n",
        "print(sent_tokenize(example_text))\n",
        "print(word_tokenize(example_text))\n",
        "\n",
        "for i in word_tokenize(example_text):\n",
        "  print(i)\n"
      ],
      "outputs": [],
      "metadata": {
        "id": "G4G4AIt__Cen"
      }
    },
    {
      "cell_type": "markdown",
      "source": [
        "Tutorial 2"
      ],
      "metadata": {
        "id": "qDqIGPSuUyZk"
      }
    },
    {
      "cell_type": "code",
      "execution_count": null,
      "source": [
        "#Stop words. Palabras que no importan, que no tienen significado. Para data analysis no importan.\n",
        "\n",
        "from nltk.corpus import stopwords\n",
        "from nltk.tokenize import word_tokenize\n",
        "\n",
        "example_sentence = \"This is an example showing off stop world filtration.\"\n",
        "stop_words = set(stopwords.words(\"english\"))\n",
        "#print(stop_words)\n",
        "\n",
        "words = word_tokenize(example_sentence)\n",
        "\n",
        "filtered_sentence = []\n",
        "\n",
        "for w in words:\n",
        "  if w not in stop_words:\n",
        "    filtered_sentence.append(w)\n",
        "  \n",
        "print(filtered_sentence)\n",
        "\n",
        "#fileterd_sentence = [w for w in fords if not w in stop_words]"
      ],
      "outputs": [
        {
          "output_type": "stream",
          "name": "stdout",
          "text": [
            "['This', 'example', 'showing', 'stop', 'world', 'filtration', '.']\n"
          ]
        }
      ],
      "metadata": {
        "id": "bdGymYRxU0wt",
        "colab": {
          "base_uri": "https://localhost:8080/"
        },
        "outputId": "1fc8d420-a6ae-446d-b8b2-9c33073cc665"
      }
    },
    {
      "cell_type": "markdown",
      "source": [
        "Tutorial 3"
      ],
      "metadata": {
        "id": "CNV4271DihUh"
      }
    },
    {
      "cell_type": "code",
      "execution_count": null,
      "source": [
        "#Steming - A form of data pre processing, take de root stem of the word\n",
        "# Esto se hace porque muchas veces se tienen diferentes variaciones de las palabras pero significan lo mismo. \n",
        "#Porterstemer Algoritmo para hacer stem. \n",
        "\n",
        "from nltk.stem import PorterStemmer\n",
        "from nltk.tokenize import word_tokenize\n",
        "\n",
        "ps = PorterStemmer()\n",
        "\n",
        "example_words = [\"phyton\",\"phytoner\",\"phytoning\",\"phytoned\",\"phytonly\"]\n",
        "\n",
        "#for w in example_words:\n",
        "# print(ps.stem(w))\n",
        "\n",
        "new_text = \"It is very important to be pythonly while you are pythoning with phyton. All phytoners have pythoned poorly at least once.\"\n",
        "\n",
        "words = word_tokenize(new_text)\n",
        "\n",
        "for w in words:\n",
        "  print(ps.stem(w))\n"
      ],
      "outputs": [],
      "metadata": {
        "id": "Gyhi4DpmiiqO"
      }
    },
    {
      "cell_type": "markdown",
      "source": [
        "Tutorial 4"
      ],
      "metadata": {
        "id": "dkyl1VUak9hk"
      }
    },
    {
      "cell_type": "code",
      "execution_count": null,
      "source": [
        "#Part of speech taging. Pre processing. Labeling the part of speech in every single word. \n",
        "\n",
        "from nltk.corpus import state_union\n",
        "from nltk.tokenize import PunktSentenceTokenizer #Unsupervised ML sentence tokenizer. Ya esta pre entrenado\n",
        "\n",
        "train_text = state_union.raw(\"2005-GWBush.txt\")\n",
        "sample_text = state_union.raw(\"2006-GWBush.txt\")\n",
        "\n",
        "custom_sent_tokenizer = PunktSentenceTokenizer(train_text)\n",
        "\n",
        "tokenized = custom_sent_tokenizer.tokenize(sample_text)\n",
        "\n",
        "def process_content():\n",
        "  try:\n",
        "    for i in tokenized:\n",
        "      words = nltk.word_tokenize(i)\n",
        "      tagged = nltk.pos_tag(words)\n",
        "\n",
        "      print(tagged)\n",
        "  except Exception as e:\n",
        "    print(str(e))\n",
        "\n",
        "process_content()  #Creates touple, of the word and then the part of speech."
      ],
      "outputs": [],
      "metadata": {
        "id": "lsJWaH2BuPts"
      }
    },
    {
      "cell_type": "markdown",
      "source": [
        "Tutorial 5"
      ],
      "metadata": {
        "id": "R4DfvPuGTbGp"
      }
    },
    {
      "cell_type": "code",
      "execution_count": null,
      "source": [
        "#Chunking. \n",
        "\n",
        "#Part of speech taging. Pre processing. Labeling the part of speech in every single word. \n",
        "\n",
        "from nltk.corpus import state_union\n",
        "from nltk.tokenize import PunktSentenceTokenizer #Unsupervised ML sentence tokenizer. Ya esta pre entrenado\n",
        "\n",
        "train_text = state_union.raw(\"2005-GWBush.txt\")\n",
        "sample_text = state_union.raw(\"2006-GWBush.txt\")\n",
        "\n",
        "custom_sent_tokenizer = PunktSentenceTokenizer(train_text)\n",
        "\n",
        "tokenized = custom_sent_tokenizer.tokenize(sample_text)\n",
        "\n",
        "def process_content():\n",
        "  try:\n",
        "    for i in tokenized:\n",
        "      words = nltk.word_tokenize(i)\n",
        "      tagged = nltk.pos_tag(words)\n",
        "\n",
        "      chunkGram = \"\"\"Chunk: {<RB.?>*<VB.?>*<NNP>+<NN>?}\"\"\"  #RB is Any form of an adverb, we are looking for zero or more of these. VB is verb and NNP is proper noun. NN is a nown.\n",
        "      \n",
        "      chunkParser = nltk.RegexpParser(chunkGram)\n",
        "      chunked = chunkParser.parse(tagged)\n",
        "\n",
        "      print(chunked)\n",
        "\n",
        "\n",
        "  except Exception as e:\n",
        "    print(str(e))\n",
        "\n",
        "process_content()  #Creates touple, of the word and then the part of speech."
      ],
      "outputs": [],
      "metadata": {
        "id": "B0hxwmuLTcXu"
      }
    },
    {
      "cell_type": "markdown",
      "source": [
        "Tutorial 6"
      ],
      "metadata": {
        "id": "xvTAjmNUYeGg"
      }
    },
    {
      "cell_type": "code",
      "execution_count": null,
      "source": [
        "\n",
        "\n",
        "from nltk.corpus import state_union\n",
        "from nltk.tokenize import PunktSentenceTokenizer #Unsupervised ML sentence tokenizer. Ya esta pre entrenado\n",
        "\n",
        "train_text = state_union.raw(\"2005-GWBush.txt\")\n",
        "sample_text = state_union.raw(\"2006-GWBush.txt\")\n",
        "\n",
        "custom_sent_tokenizer = PunktSentenceTokenizer(train_text)\n",
        "\n",
        "tokenized = custom_sent_tokenizer.tokenize(sample_text)\n",
        "\n",
        "def process_content():\n",
        "  try:\n",
        "    for i in tokenized[5:]:\n",
        "      words = nltk.word_tokenize(i)\n",
        "      tagged = nltk.pos_tag(words)\n",
        "\n",
        "      chunkGram = \"\"\"Chunk: {<.*>+}\n",
        "                              }<VB.?|IN|DT|TO>+{\"\"\"  # Chunk everything except for verb, prepositions or determinators. \n",
        "      \n",
        "      chunkParser = nltk.RegexpParser(chunkGram)\n",
        "      chunked = chunkParser.parse(tagged)\n",
        "\n",
        "      print(chunked)\n",
        "\n",
        "  except Exception as e:\n",
        "    print(str(e))\n",
        "\n",
        "process_content()  #Creates touple, of the word and then the part of speech."
      ],
      "outputs": [],
      "metadata": {
        "id": "9E87S9AjYgGJ"
      }
    },
    {
      "cell_type": "markdown",
      "source": [
        "Tutorial 7"
      ],
      "metadata": {
        "id": "VTFVrIdoaZW-"
      }
    },
    {
      "cell_type": "code",
      "execution_count": null,
      "source": [
        "#named entity recognition.\n",
        "from nltk.corpus import state_union\n",
        "from nltk.tokenize import PunktSentenceTokenizer #Unsupervised ML sentence tokenizer. Ya esta pre entrenado\n",
        "\n",
        "train_text = state_union.raw(\"2005-GWBush.txt\")\n",
        "sample_text = state_union.raw(\"2006-GWBush.txt\")\n",
        "\n",
        "custom_sent_tokenizer = PunktSentenceTokenizer(train_text)\n",
        "\n",
        "tokenized = custom_sent_tokenizer.tokenize(sample_text)\n",
        "\n",
        "def process_content():\n",
        "  try:\n",
        "    for i in tokenized[5:]:\n",
        "      words = nltk.word_tokenize(i)\n",
        "      tagged = nltk.pos_tag(words)\n",
        "\n",
        "      namedEnt = nltk.ne_chunk(tagged, binary = True)\n",
        "      print(namedEnt)\n",
        "\n",
        "  except Exception as e:\n",
        "    print(str(e))\n",
        "\n",
        "process_content()  #Creates touple, of the word and then the part of speech."
      ],
      "outputs": [],
      "metadata": {
        "id": "dpzrjXCCaapg"
      }
    },
    {
      "cell_type": "markdown",
      "source": [
        "Tutorial 8"
      ],
      "metadata": {
        "id": "yVJRoGbAgfPB"
      }
    },
    {
      "cell_type": "code",
      "execution_count": null,
      "source": [
        "# Lematizing Es una operacion similar a steamming, pero el resultado es una palabra, podría ser un sinonimo o la palabra original. \n",
        "# Es un poco mejor que stemming.\n",
        "from nltk.stem import WordNetLemmatizer\n",
        "\n",
        "lemmatizer = WordNetLemmatizer()\n",
        "\n",
        "print(lemmatizer.lemmatize(\"cats\"))\n",
        "print(lemmatizer.lemmatize(\"cacti\"))\n",
        "print(lemmatizer.lemmatize(\"geese\"))\n",
        "print(lemmatizer.lemmatize(\"rocks\"))\n",
        "print(lemmatizer.lemmatize(\"phyton\"))\n",
        "\n",
        "print(lemmatizer.lemmatize(\"better\",pos=\"a\")) # A de adjetivo\n",
        "print(lemmatizer.lemmatize(\"better\")) # El valor default es pos = n que es de noun.\n",
        "print(lemmatizer.lemmatize(\"best\",pos=\"a\"))\n",
        "print(lemmatizer.lemmatize(\"run\"))\n",
        "print(lemmatizer.lemmatize(\"run\",pos=\"v\")) # V de verbo"
      ],
      "outputs": [],
      "metadata": {
        "id": "f3Q-OfS4ggxf"
      }
    },
    {
      "cell_type": "markdown",
      "source": [
        "Tutorial 9"
      ],
      "metadata": {
        "id": "6-xqPTEa-Qoz"
      }
    },
    {
      "cell_type": "code",
      "execution_count": 4,
      "source": [
        "# Tutorial 9\n",
        "# Estre tutorial es sobre acceder a los archivos de corpus, ahí hay información muy valiosa que se puede utilizar para entrenar. \n",
        "import nltk\n",
        "from nltk.corpus import gutenberg\n",
        "from nltk.tokenize import sent_tokenize\n",
        "\n",
        "print(nltk.__file__)\n",
        "sample = gutenberg.raw(\"bible-kjv.txt\")\n",
        "\n",
        "tok = sent_tokenize(sample)\n",
        "\n",
        "print(tok[5:15])"
      ],
      "outputs": [
        {
          "output_type": "stream",
          "name": "stdout",
          "text": [
            "/Users/amsua/opt/anaconda3/lib/python3.8/site-packages/nltk/__init__.py\n",
            "['1:5 And God called the light Day, and the darkness he called Night.', 'And the evening and the morning were the first day.', '1:6 And God said, Let there be a firmament in the midst of the waters,\\nand let it divide the waters from the waters.', '1:7 And God made the firmament, and divided the waters which were\\nunder the firmament from the waters which were above the firmament:\\nand it was so.', '1:8 And God called the firmament Heaven.', 'And the evening and the\\nmorning were the second day.', '1:9 And God said, Let the waters under the heaven be gathered together\\nunto one place, and let the dry land appear: and it was so.', '1:10 And God called the dry land Earth; and the gathering together of\\nthe waters called he Seas: and God saw that it was good.', '1:11 And God said, Let the earth bring forth grass, the herb yielding\\nseed, and the fruit tree yielding fruit after his kind, whose seed is\\nin itself, upon the earth: and it was so.', '1:12 And the earth brought forth grass, and herb yielding seed after\\nhis kind, and the tree yielding fruit, whose seed was in itself, after\\nhis kind: and God saw that it was good.']\n"
          ]
        }
      ],
      "metadata": {
        "id": "GZH9Ovns-Rz9",
        "colab": {
          "base_uri": "https://localhost:8080/"
        },
        "outputId": "069cd7dc-e185-4ba2-f9bf-f2b17175770d"
      }
    },
    {
      "cell_type": "markdown",
      "source": [
        "Tutorial 10"
      ],
      "metadata": {
        "id": "3udXAksRQXEF"
      }
    },
    {
      "cell_type": "code",
      "execution_count": 2,
      "source": [
        "#Tutorial 10\n",
        "# Word Net is one of the larges capability corpora in nltk.\n",
        "from nltk.corpus import wordnet\n",
        "\n",
        "# From nltk.org/howto/wordnet.html\n",
        "# Synsets: a set of synonyms that share a common meaning\n",
        "# Lemma: Represent a specific sense of a word\n",
        "syns = wordnet.synsets(\"program\") # Get synonyms from word, get list of Synsets\n",
        "print(syns[0].name()) #List of Synsets\n",
        "print(syns[0].lemmas()[0].name()) # Just the word\n",
        "\n",
        "#definition\n",
        "print(syns[0].definition())\n",
        "\n",
        "#examples \n",
        "print(syns[0].examples())\n",
        "\n",
        "synonyms = []\n",
        "antonyms = []\n",
        "\n",
        "for syn in wordnet.synsets(\"good\"):\n",
        "  for l in syn.lemmas():\n",
        "    # print(\"l:\",l) #Gives us a list of lemmas\n",
        "    synonyms.append(l.name())\n",
        "    if l.antonyms():\n",
        "      # print(\"a: \"l.antonyms())\n",
        "      antonyms.append(l.antonyms()[0].name())\n",
        "\n",
        "print(set(synonyms))\n",
        "print(set(antonyms))\n",
        "\n",
        "#Compare the similarity between these two words, the semantic similarity.\n",
        "# Semantic is the meaning of the words\n",
        "\n",
        "w1 = wordnet.synset(\"ship.n.01\") #first noun\n",
        "w2 = wordnet.synset(\"boat.n.01\") #first noun\n",
        "\n",
        "# Wu Palmer semantic similarity against two words\n",
        "print(w1, w2)\n",
        "print(\"similarity: \", w1.wup_similarity(w2))\n",
        "\n",
        "w1 = wordnet.synset(\"ship.n.01\")\n",
        "w2 = wordnet.synset(\"car.n.01\")\n",
        "\n",
        "print(w1, w2)\n",
        "print(\"similarity: \", w1.wup_similarity(w2))\n",
        "\n",
        "w1 = wordnet.synset(\"ship.n.01\")\n",
        "w2 = wordnet.synset(\"cat.n.01\")\n",
        "\n",
        "print(w1, w2)\n",
        "print(\"similarity: \", w1.wup_similarity(w2))\n",
        "\n",
        "w1 = wordnet.synset(\"ship.n.01\")\n",
        "w2 = wordnet.synset(\"cactus.n.01\")\n",
        "\n",
        "print(w1, w2)\n",
        "print(\"similarity: \", w1.wup_similarity(w2))\n",
        "\n",
        "# you can use this to rewrite things"
      ],
      "outputs": [
        {
          "output_type": "stream",
          "name": "stdout",
          "text": [
            "plan.n.01\n",
            "plan\n",
            "a series of steps to be carried out or goals to be accomplished\n",
            "['they drew up a six-step plan', 'they discussed plans for a new bond issue']\n",
            "{'secure', 'just', 'practiced', 'in_force', 'salutary', 'ripe', 'commodity', 'beneficial', 'dependable', 'good', 'effective', 'respectable', 'honest', 'thoroughly', 'adept', 'near', 'in_effect', 'safe', 'sound', 'trade_good', 'estimable', 'goodness', 'unspoilt', 'honorable', 'undecomposed', 'soundly', 'expert', 'serious', 'right', 'dear', 'unspoiled', 'upright', 'proficient', 'well', 'skillful', 'skilful', 'full'}\n",
            "{'evilness', 'evil', 'badness', 'ill', 'bad'}\n",
            "Synset('ship.n.01') Synset('boat.n.01')\n",
            "similarity:  0.9090909090909091\n",
            "Synset('ship.n.01') Synset('car.n.01')\n",
            "similarity:  0.6956521739130435\n",
            "Synset('ship.n.01') Synset('cat.n.01')\n",
            "similarity:  0.32\n",
            "Synset('ship.n.01') Synset('cactus.n.01')\n",
            "similarity:  0.38095238095238093\n"
          ]
        }
      ],
      "metadata": {
        "id": "xWzFMDBIQYHd"
      }
    },
    {
      "cell_type": "markdown",
      "source": [
        "Tutorial 11"
      ],
      "metadata": {
        "id": "WbcIFcUDlTDB"
      }
    },
    {
      "cell_type": "code",
      "execution_count": 3,
      "source": [
        "#Tutorial 11\n",
        "# Start creating the text classifier for sentiment analysis. This could be done for economics, politics, that kind of things. \n",
        "# Our classifier will say if something is positive or something is negative. \n",
        "# Our method could be applied to any binary classifier. \n",
        "\n",
        "import nltk\n",
        "import random\n",
        "from nltk.corpus import movie_reviews   #Already labeled data. \n",
        "\n",
        "# list of touples (list of words words, category)\n",
        "documents = [(list(movie_reviews.words(fileid)), category)\n",
        "              for category in movie_reviews.categories()\n",
        "              for fileid in movie_reviews.fileids(category)]\n",
        "\n",
        "\n",
        "# Shuffle so the training isn't biased\n",
        "random.shuffle(documents)\n",
        "\n",
        "# find most popular words, take which appear on the most\n",
        "\n",
        "#print(documents[1])\n",
        "# take into account that nltk will still consider punctuation as words\n",
        "# this may affect our classifier\n",
        "\n",
        "all_words = []\n",
        "for w in movie_reviews.words():\n",
        "  all_words.append(w.lower())\n",
        "\n",
        "all_words = nltk.FreqDist(all_words)\n",
        "\n",
        "print(all_words.most_common(15))\n",
        "\n",
        "print(all_words[\"stupid\"])"
      ],
      "outputs": [
        {
          "output_type": "stream",
          "name": "stdout",
          "text": [
            "[(',', 77717), ('the', 76529), ('.', 65876), ('a', 38106), ('and', 35576), ('of', 34123), ('to', 31937), (\"'\", 30585), ('is', 25195), ('in', 21822), ('s', 18513), ('\"', 17612), ('it', 16107), ('that', 15924), ('-', 15595)]\n",
            "253\n"
          ]
        }
      ],
      "metadata": {
        "colab": {
          "base_uri": "https://localhost:8080/"
        },
        "id": "MbrF8axelVsG",
        "outputId": "4098c29c-bd2e-44ee-fa7d-f9b580099ce3"
      }
    },
    {
      "cell_type": "markdown",
      "source": [
        "Tutorial 12\n"
      ],
      "metadata": {
        "id": "qTpolbqwsJil"
      }
    },
    {
      "cell_type": "code",
      "execution_count": 6,
      "source": [
        "#Tutorial 12\n",
        "# Start creating the text classifier for sentiment analysis. This could be done for economics, politics, that kind of things. \n",
        "# Our classifier will say if something is positive or something is negative. \n",
        "# Our method could be applied to any binary classifier. \n",
        "\n",
        "import nltk\n",
        "import random\n",
        "from nltk.corpus import movie_reviews   #Already labeled data. \n",
        "\n",
        "documents = [(list(movie_reviews.words(fileid)), category)\n",
        "              for category in movie_reviews.categories()\n",
        "              for fileid in movie_reviews.fileids(category)]\n",
        "\n",
        "\n",
        "random.shuffle(documents)\n",
        "\n",
        "#print(documents[1])\n",
        "\n",
        "all_words = []\n",
        "for w in movie_reviews.words():\n",
        "  all_words.append(w.lower())\n",
        "\n",
        "all_words = nltk.FreqDist(all_words)\n",
        "\n",
        "#print(all_words.most_common(15))\n",
        "#print(all_words[\"stupid\"])\n",
        "\n",
        "word_features = list(all_words.keys())[:3000]\n",
        "\n",
        "def find_features(document):\n",
        "  words = set(document)\n",
        "  # Creates a dictionary that maps our most common words to a boolean value, where the word is the key and value is a boolean of whether it is present or not\n",
        "  features = {}\n",
        "  for w in word_features:\n",
        "    features[w] = (w in words)\n",
        "    # If the word is in the top 3000 this will be true if not false.\n",
        "  return features\n",
        "\n",
        "print((find_features(movie_reviews.words('neg/cv000_29416.txt'))))\n",
        "\n",
        "featuresets = [(find_features(rev), category) for (rev, category) in documents]\n",
        "\n",
        "\n"
      ],
      "outputs": [
        {
          "output_type": "stream",
          "name": "stdout",
          "text": [
            "{'plot': True, ':': True, 'two': True, 'teen': True, 'couples': True, 'go': True, 'to': True, 'a': True, 'church': True, 'party': True, ',': True, 'drink': True, 'and': True, 'then': True, 'drive': True, '.': True, 'they': True, 'get': True, 'into': True, 'an': True, 'accident': True, 'one': True, 'of': True, 'the': True, 'guys': True, 'dies': True, 'but': True, 'his': True, 'girlfriend': True, 'continues': True, 'see': True, 'him': True, 'in': True, 'her': True, 'life': True, 'has': True, 'nightmares': True, 'what': True, \"'\": True, 's': True, 'deal': True, '?': True, 'watch': True, 'movie': True, '\"': True, 'sorta': True, 'find': True, 'out': True, 'critique': True, 'mind': True, '-': True, 'fuck': True, 'for': True, 'generation': True, 'that': True, 'touches': True, 'on': True, 'very': True, 'cool': True, 'idea': True, 'presents': True, 'it': True, 'bad': True, 'package': True, 'which': True, 'is': True, 'makes': True, 'this': True, 'review': True, 'even': True, 'harder': True, 'write': True, 'since': True, 'i': True, 'generally': True, 'applaud': True, 'films': True, 'attempt': True, 'break': True, 'mold': True, 'mess': True, 'with': True, 'your': True, 'head': True, 'such': True, '(': True, 'lost': True, 'highway': True, '&': True, 'memento': True, ')': True, 'there': True, 'are': True, 'good': True, 'ways': True, 'making': True, 'all': True, 'types': True, 'these': True, 'folks': True, 'just': True, 'didn': True, 't': True, 'snag': True, 'correctly': True, 'seem': True, 'have': True, 'taken': True, 'pretty': True, 'neat': True, 'concept': True, 'executed': True, 'terribly': True, 'so': True, 'problems': True, 'well': True, 'its': True, 'main': True, 'problem': True, 'simply': True, 'too': True, 'jumbled': True, 'starts': True, 'off': True, 'normal': True, 'downshifts': True, 'fantasy': True, 'world': True, 'you': True, 'as': True, 'audience': True, 'member': True, 'no': True, 'going': True, 'dreams': True, 'characters': True, 'coming': True, 'back': True, 'from': True, 'dead': True, 'others': True, 'who': True, 'look': True, 'like': True, 'strange': True, 'apparitions': True, 'disappearances': True, 'looooot': True, 'chase': True, 'scenes': True, 'tons': True, 'weird': True, 'things': True, 'happen': True, 'most': True, 'not': True, 'explained': True, 'now': True, 'personally': True, 'don': True, 'trying': True, 'unravel': True, 'film': True, 'every': True, 'when': True, 'does': True, 'give': True, 'me': True, 'same': True, 'clue': True, 'over': True, 'again': True, 'kind': True, 'fed': True, 'up': True, 'after': True, 'while': True, 'biggest': True, 'obviously': True, 'got': True, 'big': True, 'secret': True, 'hide': True, 'seems': True, 'want': True, 'completely': True, 'until': True, 'final': True, 'five': True, 'minutes': True, 'do': True, 'make': True, 'entertaining': True, 'thrilling': True, 'or': True, 'engaging': True, 'meantime': True, 'really': True, 'sad': True, 'part': True, 'arrow': True, 'both': True, 'dig': True, 'flicks': True, 'we': True, 'actually': True, 'figured': True, 'by': True, 'half': True, 'way': True, 'point': True, 'strangeness': True, 'did': True, 'start': True, 'little': True, 'bit': True, 'sense': True, 'still': True, 'more': True, 'guess': True, 'bottom': True, 'line': True, 'movies': True, 'should': True, 'always': True, 'sure': True, 'before': True, 'given': True, 'password': True, 'enter': True, 'understanding': True, 'mean': True, 'showing': True, 'melissa': True, 'sagemiller': True, 'running': True, 'away': True, 'visions': True, 'about': True, '20': True, 'throughout': True, 'plain': True, 'lazy': True, '!': True, 'okay': True, 'people': True, 'chasing': True, 'know': True, 'need': True, 'how': True, 'giving': True, 'us': True, 'different': True, 'offering': True, 'further': True, 'insight': True, 'down': True, 'apparently': True, 'studio': True, 'took': True, 'director': True, 'chopped': True, 'themselves': True, 'shows': True, 'might': True, 've': True, 'been': True, 'decent': True, 'here': True, 'somewhere': True, 'suits': True, 'decided': True, 'turning': True, 'music': True, 'video': True, 'edge': True, 'would': True, 'actors': True, 'although': True, 'wes': True, 'bentley': True, 'seemed': True, 'be': True, 'playing': True, 'exact': True, 'character': True, 'he': True, 'american': True, 'beauty': True, 'only': True, 'new': True, 'neighborhood': True, 'my': True, 'kudos': True, 'holds': True, 'own': True, 'entire': True, 'feeling': True, 'unraveling': True, 'overall': True, 'doesn': True, 'stick': True, 'because': True, 'entertain': True, 'confusing': True, 'rarely': True, 'excites': True, 'feels': True, 'redundant': True, 'runtime': True, 'despite': True, 'ending': True, 'explanation': True, 'craziness': True, 'came': True, 'oh': True, 'horror': True, 'slasher': True, 'flick': True, 'packaged': True, 'someone': True, 'assuming': True, 'genre': True, 'hot': True, 'kids': True, 'also': True, 'wrapped': True, 'production': True, 'years': True, 'ago': True, 'sitting': True, 'shelves': True, 'ever': True, 'whatever': True, 'skip': True, 'where': True, 'joblo': True, 'nightmare': True, 'elm': True, 'street': True, '3': True, '7': True, '/': True, '10': True, 'blair': True, 'witch': True, '2': True, 'crow': True, '9': True, 'salvation': True, '4': True, 'stir': True, 'echoes': True, '8': True, 'happy': False, 'bastard': False, 'quick': False, 'damn': False, 'y2k': False, 'bug': False, 'starring': False, 'jamie': False, 'lee': False, 'curtis': False, 'another': False, 'baldwin': False, 'brother': False, 'william': False, 'time': False, 'story': False, 'regarding': False, 'crew': False, 'tugboat': False, 'comes': False, 'across': False, 'deserted': False, 'russian': False, 'tech': False, 'ship': False, 'kick': False, 'power': False, 'within': False, 'gore': False, 'bringing': False, 'few': False, 'action': False, 'sequences': False, 'virus': False, 'empty': False, 'flash': False, 'substance': False, 'why': False, 'was': False, 'middle': False, 'nowhere': False, 'origin': False, 'pink': False, 'flashy': False, 'thing': False, 'hit': False, 'mir': False, 'course': False, 'donald': False, 'sutherland': False, 'stumbling': False, 'around': False, 'drunkenly': False, 'hey': False, 'let': False, 'some': False, 'robots': False, 'acting': False, 'below': False, 'average': False, 'likes': False, 're': False, 'likely': False, 'work': False, 'halloween': False, 'h20': False, 'wasted': False, 'real': False, 'star': False, 'stan': False, 'winston': False, 'robot': False, 'design': False, 'schnazzy': False, 'cgi': False, 'occasional': False, 'shot': False, 'picking': False, 'brain': False, 'if': False, 'body': False, 'parts': False, 'turn': False, 'otherwise': False, 'much': False, 'sunken': False, 'jaded': False, 'viewer': False, 'thankful': False, 'invention': False, 'timex': False, 'indiglo': False, 'based': False, 'late': False, '1960': False, 'television': False, 'show': False, 'name': False, 'mod': False, 'squad': False, 'tells': False, 'tale': False, 'three': False, 'reformed': False, 'criminals': False, 'under': False, 'employ': False, 'police': False, 'undercover': False, 'however': False, 'wrong': False, 'evidence': False, 'gets': False, 'stolen': False, 'immediately': False, 'suspicion': False, 'ads': False, 'cuts': False, 'claire': False, 'dane': False, 'nice': False, 'hair': False, 'cute': False, 'outfits': False, 'car': False, 'chases': False, 'stuff': False, 'blowing': False, 'sounds': False, 'first': False, 'fifteen': False, 'quickly': False, 'becomes': False, 'apparent': False, 'certainly': False, 'slick': False, 'looking': False, 'complete': False, 'costumes': False, 'isn': False, 'enough': False, 'best': False, 'described': False, 'cross': False, 'between': False, 'hour': False, 'long': False, 'cop': False, 'stretched': False, 'span': False, 'single': False, 'clich': False, 'matter': False, 'elements': False, 'recycled': False, 'everything': False, 'already': False, 'seen': False, 'nothing': False, 'spectacular': False, 'sometimes': False, 'bordering': False, 'wooden': False, 'danes': False, 'omar': False, 'epps': False, 'deliver': False, 'their': False, 'lines': False, 'bored': False, 'transfers': False, 'onto': False, 'escape': False, 'relatively': False, 'unscathed': False, 'giovanni': False, 'ribisi': False, 'plays': False, 'resident': False, 'crazy': False, 'man': False, 'ultimately': False, 'being': False, 'worth': False, 'watching': False, 'unfortunately': False, 'save': False, 'convoluted': False, 'apart': False, 'occupying': False, 'screen': False, 'young': False, 'cast': False, 'clothes': False, 'hip': False, 'soundtrack': False, 'appears': False, 'geared': False, 'towards': False, 'teenage': False, 'mindset': False, 'r': False, 'rating': False, 'content': False, 'justify': False, 'juvenile': False, 'older': False, 'information': False, 'literally': False, 'spoon': False, 'hard': False, 'instead': False, 'telling': False, 'dialogue': False, 'poorly': False, 'written': False, 'extremely': False, 'predictable': False, 'progresses': False, 'won': False, 'care': False, 'heroes': False, 'any': False, 'jeopardy': False, 'll': False, 'aren': False, 'basing': False, 'nobody': False, 'remembers': False, 'questionable': False, 'wisdom': False, 'especially': False, 'considers': False, 'target': False, 'fact': False, 'number': False, 'memorable': False, 'can': False, 'counted': False, 'hand': False, 'missing': False, 'finger': False, 'times': False, 'checked': False, 'six': False, 'clear': False, 'indication': False, 'them': False, 'than': False, 'cash': False, 'spending': False, 'dollar': False, 'judging': False, 'rash': False, 'awful': False, 'seeing': False, 'avoid': False, 'at': False, 'costs': False, 'quest': False, 'camelot': False, 'warner': False, 'bros': False, 'feature': False, 'length': False, 'fully': False, 'animated': False, 'steal': False, 'clout': False, 'disney': False, 'cartoon': False, 'empire': False, 'mouse': False, 'reason': False, 'worried': False, 'other': False, 'recent': False, 'challenger': False, 'throne': False, 'last': False, 'fall': False, 'promising': False, 'flawed': False, '20th': False, 'century': False, 'fox': False, 'anastasia': False, 'hercules': False, 'lively': False, 'colorful': False, 'palate': False, 'had': False, 'beat': False, 'hands': False, 'crown': False, '1997': False, 'piece': False, 'animation': False, 'year': False, 'contest': False, 'arrival': False, 'magic': False, 'kingdom': False, 'mediocre': False, '--': False, 'd': False, 'pocahontas': False, 'those': False, 'keeping': False, 'score': False, 'nearly': False, 'dull': False, 'revolves': False, 'adventures': False, 'free': False, 'spirited': False, 'kayley': False, 'voiced': False, 'jessalyn': False, 'gilsig': False, 'early': False, 'daughter': False, 'belated': False, 'knight': False, 'king': False, 'arthur': False, 'round': False, 'table': False, 'dream': False, 'follow': False, 'father': False, 'footsteps': False, 'she': False, 'chance': False, 'evil': False, 'warlord': False, 'ruber': False, 'gary': False, 'oldman': False, 'ex': False, 'gone': False, 'steals': False, 'magical': False, 'sword': False, 'excalibur': False, 'accidentally': False, 'loses': False, 'dangerous': False, 'booby': False, 'trapped': False, 'forest': False, 'help': False, 'hunky': False, 'blind': False, 'timberland': False, 'dweller': False, 'garrett': False, 'carey': False, 'elwes': False, 'headed': False, 'dragon': False, 'eric': False, 'idle': False, 'rickles': False, 'arguing': False, 'itself': False, 'able': False, 'medieval': False, 'sexist': False, 'prove': False, 'fighter': False, 'side': False, 'pure': False, 'showmanship': False, 'essential': False, 'element': False, 'expected': False, 'climb': False, 'high': False, 'ranks': False, 'differentiates': False, 'something': False, 'saturday': False, 'morning': False, 'subpar': False, 'instantly': False, 'forgettable': False, 'songs': False, 'integrated': False, 'computerized': False, 'footage': False, 'compare': False, 'run': False, 'angry': False, 'ogre': False, 'herc': False, 'battle': False, 'hydra': False, 'rest': False, 'case': False, 'stink': False, 'none': False, 'remotely': False, 'interesting': False, 'race': False, 'bland': False, 'end': False, 'tie': False, 'win': False, 'comedy': False, 'shtick': False, 'awfully': False, 'cloying': False, 'least': False, 'signs': False, 'pulse': False, 'fans': False, \"-'\": False, '90s': False, 'tgif': False, 'will': False, 'thrilled': False, 'jaleel': False, 'urkel': False, 'white': False, 'bronson': False, 'balki': False, 'pinchot': False, 'sharing': False, 'nicely': False, 'realized': False, 'though': False, 'm': False, 'loss': False, 'recall': False, 'specific': False, 'providing': False, 'voice': False, 'talent': False, 'enthusiastic': False, 'paired': False, 'singers': False, 'sound': False, 'musical': False, 'moments': False, 'jane': False, 'seymour': False, 'celine': False, 'dion': False, 'must': False, 'strain': False, 'through': False, 'aside': False, 'children': False, 'probably': False, 'adults': False, 'grievous': False, 'error': False, 'lack': False, 'personality': False, 'learn': False, 'goes': False, 'synopsis': False, 'mentally': False, 'unstable': False, 'undergoing': False, 'psychotherapy': False, 'saves': False, 'boy': False, 'potentially': False, 'fatal': False, 'falls': False, 'love': False, 'mother': False, 'fledgling': False, 'restauranteur': False, 'unsuccessfully': False, 'attempting': False, 'gain': False, 'woman': False, 'favor': False, 'takes': False, 'pictures': False, 'kills': False, 'comments': False, 'stalked': False, 'yet': False, 'seemingly': False, 'endless': False, 'string': False, 'spurned': False, 'psychos': False, 'getting': False, 'revenge': False, 'type': False, 'stable': False, 'category': False, '1990s': False, 'industry': False, 'theatrical': False, 'direct': False, 'proliferation': False, 'may': False, 'due': False, 'typically': False, 'inexpensive': False, 'produce': False, 'special': False, 'effects': False, 'stars': False, 'serve': False, 'vehicles': False, 'nudity': False, 'allowing': False, 'frequent': False, 'night': False, 'cable': False, 'wavers': False, 'slightly': False, 'norm': False, 'respect': False, 'psycho': False, 'never': False, 'affair': False, ';': False, 'contrary': False, 'rejected': False, 'rather': False, 'lover': False, 'wife': False, 'husband': False, 'entry': False, 'doomed': False, 'collect': False, 'dust': False, 'viewed': False, 'midnight': False, 'provide': False, 'suspense': False, 'sets': False, 'interspersed': False, 'opening': False, 'credits': False, 'instance': False, 'serious': False, 'sounding': False, 'narrator': False, 'spouts': False, 'statistics': False, 'stalkers': False, 'ponders': False, 'cause': False, 'stalk': False, 'implicitly': False, 'implied': False, 'men': False, 'shown': False, 'snapshot': False, 'actor': False, 'jay': False, 'underwood': False, 'states': False, 'daryl': False, 'gleason': False, 'stalker': False, 'brooke': False, 'daniels': False, 'meant': False, 'called': False, 'guesswork': False, 'required': False, 'proceeds': False, 'begins': False, 'obvious': False, 'sequence': False, 'contrived': False, 'quite': False, 'brings': False, 'victim': False, 'together': False, 'obsesses': False, 'follows': False, 'tries': False, 'woo': False, 'plans': False, 'become': False, 'desperate': False, 'elaborate': False, 'include': False, 'cliche': False, 'murdered': False, 'pet': False, 'require': False, 'found': False, 'exception': False, 'cat': False, 'shower': False, 'events': False, 'lead': False, 'inevitable': False, 'showdown': False, 'survives': False, 'invariably': False, 'conclusion': False, 'turkey': False, 'uniformly': False, 'adequate': False, 'anything': False, 'home': False, 'either': False, 'turns': False, 'toward': False, 'melodrama': False, 'overdoes': False, 'words': False, 'manages': False, 'creepy': False, 'pass': False, 'demands': False, 'maryam': False, 'abo': False, 'close': False, 'played': False, 'bond': False, 'chick': False, 'living': False, 'daylights': False, 'equally': False, 'title': False, 'ditzy': False, 'strong': False, 'independent': False, 'business': False, 'owner': False, 'needs': False, 'proceed': False, 'example': False, 'suspicions': False, 'ensure': False, 'use': False, 'excuse': False, 'decides': False, 'return': False, 'toolbox': False, 'left': False, 'place': False, 'house': False, 'leave': False, 'door': False, 'answers': False, 'opens': False, 'wanders': False, 'returns': False, 'enters': False, 'our': False, 'heroine': False, 'danger': False, 'somehow': False, 'parked': False, 'front': False, 'right': False, 'oblivious': False, 'presence': False, 'inside': False, 'whole': False, 'episode': False, 'places': False, 'incredible': False, 'suspension': False, 'disbelief': False, 'questions': False, 'validity': False, 'intelligence': False, 'receives': False, 'highly': False, 'derivative': False, 'somewhat': False, 'boring': False, 'cannot': False, 'watched': False, 'rated': False, 'mostly': False, 'several': False, 'murder': False, 'brief': False, 'strip': False, 'bar': False, 'offensive': False, 'many': False, 'thrillers': False, 'mood': False, 'stake': False, 'else': False, 'capsule': False, '2176': False, 'planet': False, 'mars': False, 'taking': False, 'custody': False, 'accused': False, 'murderer': False, 'face': False, 'menace': False, 'lot': False, 'fighting': False, 'john': False, 'carpenter': False, 'reprises': False, 'ideas': False, 'previous': False, 'assault': False, 'precinct': False, '13': False, 'homage': False, 'himself': False, '0': False, '+': False, 'believes': False, 'fight': False, 'horrible': False, 'writer': False, 'supposedly': False, 'expert': False, 'mistake': False, 'ghosts': False, 'drawn': False, 'humans': False, 'surprisingly': False, 'low': False, 'powered': False, 'alien': False, 'addition': False, 'anybody': False, 'made': False, 'grounds': False, 'sue': False, 'chock': False, 'full': False, 'pieces': False, 'prince': False, 'darkness': False, 'surprising': False, 'managed': False, 'fit': False, 'admittedly': False, 'novel': False, 'science': False, 'fiction': False, 'experience': False, 'terraformed': False, 'walk': False, 'surface': False, 'without': False, 'breathing': False, 'gear': False, 'budget': False, 'mentioned': False, 'gravity': False, 'increased': False, 'earth': False, 'easier': False, 'society': False, 'changed': False, 'advanced': False, 'culture': False, 'women': False, 'positions': False, 'control': False, 'view': False, 'stagnated': False, 'female': False, 'beyond': False, 'minor': False, 'technological': False, 'advances': False, 'less': False, '175': False, 'expect': False, 'change': False, 'ten': False, 'basic': False, 'common': False, 'except': False, 'yes': False, 'replaced': False, 'tacky': False, 'rundown': False, 'martian': False, 'mining': False, 'colony': False, 'having': False, 'criminal': False, 'napolean': False, 'wilson': False, 'desolation': False, 'williams': False, 'facing': False, 'hoodlums': False, 'automatic': False, 'weapons': False, 'nature': False, 'behave': False, 'manner': False, 'essentially': False, 'human': False, 'savages': False, 'lapse': False, 'imagination': False, 'told': False, 'flashback': False, 'entirely': False, 'filmed': False, 'almost': False, 'tones': False, 'red': False, 'yellow': False, 'black': False, 'powerful': False, 'scene': False, 'train': False, 'rushing': False, 'heavy': False, 'sadly': False, 'buildup': False, 'terror': False, 'creates': False, 'looks': False, 'fugitive': False, 'wannabes': False, 'rock': False, 'band': False, 'kiss': False, 'building': False, 'bunch': False, 'sudden': False, 'jump': False, 'sucker': False, 'thinking': False, 'scary': False, 'happening': False, 'standard': False, 'haunted': False, 'shock': False, 'great': False, 'newer': False, 'unimpressive': False, 'digital': False, 'decapitations': False, 'fights': False, 'short': False, 'stretch': False, 'release': False, 'mission': False, 'panned': False, 'reviewers': False, 'better': False, 'rate': False, 'scale': False, 'following': False, 'showed': False, 'liked': False, 'moderately': False, 'classic': False, 'comment': False, 'twice': False, 'ask': False, 'yourself': False, '8mm': False, 'eight': False, 'millimeter': False, 'wholesome': False, 'surveillance': False, 'sight': False, 'values': False, 'becoming': False, 'enmeshed': False, 'seedy': False, 'sleazy': False, 'underworld': False, 'hardcore': False, 'pornography': False, 'bubbling': False, 'beneath': False, 'town': False, 'americana': False, 'sordid': False, 'sick': False, 'depraved': False, 'necessarily': False, 'stop': False, 'order': False, 'satisfy': False, 'twisted': False, 'desires': False, 'position': False, 'influence': False, 'kinds': False, 'demented': False, 'talking': False, 'snuff': False, 'supposed': False, 'documentaries': False, 'victims': False, 'brutalized': False, 'killed': False, 'camera': False, 'joel': False, 'schumacher': False, 'credit': False, 'batman': False, 'robin': False, 'kill': False, 'forever': False, 'client': False, 'thirds': False, 'unwind': False, 'fairly': False, 'conventional': False, 'persons': False, 'drama': False, 'albeit': False, 'particularly': False, 'unsavory': False, 'core': False, 'threatening': False, 'along': False, 'explodes': False, 'violence': False, 'think': False, 'finally': False, 'tags': False, 'ridiculous': False, 'self': False, 'righteous': False, 'finale': False, 'drags': False, 'unpleasant': False, 'trust': False, 'waste': False, 'hours': False, 'nicolas': False, 'snake': False, 'eyes': False, 'cage': False, 'private': False, 'investigator': False, 'tom': False, 'welles': False, 'hired': False, 'wealthy': False, 'philadelphia': False, 'widow': False, 'determine': False, 'whether': False, 'reel': False, 'safe': False, 'documents': False, 'girl': False, 'assignment': False, 'factly': False, 'puzzle': False, 'neatly': False, 'specialized': False, 'skills': False, 'training': False, 'easy': False, 'cops': False, 'toilet': False, 'tanks': False, 'clues': False, 'deeper': False, 'digs': False, 'investigation': False, 'obsessed': False, 'george': False, 'c': False, 'scott': False, 'paul': False, 'schrader': False, 'occasionally': False, 'flickering': False, 'whirs': False, 'sprockets': False, 'winding': False, 'projector': False, 'reminding': False, 'task': False, 'hints': False, 'toll': False, 'lovely': False, 'catherine': False, 'keener': False, 'frustrated': False, 'cleveland': False, 'ugly': False, 'split': False, 'level': False, 'harrisburg': False, 'pa': False, 'condemn': False, 'condone': False, 'subject': False, 'exploits': False, 'irony': False, 'seven': False, 'scribe': False, 'andrew': False, 'kevin': False, 'walker': False, 'vision': False, 'lane': False, 'limited': False, 'hollywood': False, 'product': False, 'snippets': False, 'covering': False, 'later': False, 'joaquin': False, 'phoenix': False, 'far': False, 'adult': False, 'bookstore': False, 'flunky': False, 'max': False, 'california': False, 'cover': False, 'horrid': False, 'screened': False, 'familiar': False, 'revelation': False, 'sexual': False, 'deviants': False, 'indeed': False, 'monsters': False, 'everyday': False, 'neither': False, 'super': False, 'nor': False, 'shocking': False, 'banality': False, 'exactly': False, 'felt': False, 'weren': False, 'nine': False, 'laughs': False, 'months': False, 'terrible': False, 'mr': False, 'hugh': False, 'grant': False, 'huge': False, 'dork': False, 'oral': False, 'sex': False, 'prostitution': False, 'referring': False, 'bugs': False, 'annoying': False, 'adam': False, 'sandler': False, 'jim': False, 'carrey': False, 'eye': False, 'flutters': False, 'nervous': False, 'smiles': False, 'slapstick': False, 'fistfight': False, 'delivery': False, 'room': False, 'culminating': False, 'joan': False, 'cusack': False, 'lap': False, 'paid': False, '$': False, '60': False, 'included': False, 'obscene': False, 'double': False, 'entendres': False, 'obstetrician': False, 'pregnant': False, 'pussy': False, 'size': False, 'hairs': False, 'coat': False, 'nonetheless': False, 'exchange': False, 'cookie': False, 'cutter': False, 'originality': False, 'humor': False, 'successful': False, 'child': False, 'psychiatrist': False, 'psychologist': False, 'scriptwriters': False, 'could': False, 'inject': False, 'unfunny': False, 'kid': False, 'dad': False, 'asshole': False, 'eyelashes': False, 'offers': False, 'smile': False, 'responds': False, 'english': False, 'accent': False, 'attitude': False, 'possibly': False, '_huge_': False, 'beside': False, 'includes': False, 'needlessly': False, 'stupid': False, 'jokes': False, 'olds': False, 'everyone': False, 'shakes': False, 'anyway': False, 'finds': False, 'usual': False, 'reaction': False, 'fluttered': False, 'paves': False, 'possible': False, 'pregnancy': False, 'birth': False, 'gag': False, 'book': False, 'friend': False, 'arnold': False, 'provides': False, 'cacophonous': False, 'funny': False, 'beats': False, 'costumed': False, 'arnie': False, 'dinosaur': False, 'draw': False, 'parallels': False, 'toy': False, 'store': False, 'jeff': False, 'goldblum': False, 'hid': False, 'dreadful': False, 'hideaway': False, 'artist': False, 'fear': False, 'simultaneous': False, 'longing': False, 'commitment': False, 'doctor': False, 'recently': False, 'switch': False, 'veterinary': False, 'medicine': False, 'obstetrics': False, 'joke': False, 'old': False, 'foreign': False, 'guy': False, 'mispronounces': False, 'stereotype': False, 'say': False, 'yakov': False, 'smirnov': False, 'favorite': False, 'vodka': False, 'hence': False, 'take': False, 'volvo': False, 'nasty': False, 'unamusing': False, 'heads': False, 'simultaneously': False, 'groan': False, 'failure': False, 'loud': False, 'failed': False, 'uninspired': False, 'lunacy': False, 'sunset': False, 'boulevard': False, 'arrest': False, 'please': False, 'caught': False, 'pants': False, 'bring': False, 'theaters': False, 'faces': False, '90': False, 'forced': False, 'unauthentic': False, 'anyone': False, 'q': False, '80': False, 'sorry': False, 'money': False, 'unfulfilled': False, 'desire': False, 'spend': False, 'bucks': False, 'call': False, 'road': False, 'trip': False, 'walking': False, 'wounded': False, 'stellan': False, 'skarsg': False, 'rd': False, 'convincingly': False, 'zombified': False, 'drunken': False, 'loser': False, 'difficult': False, 'smelly': False, 'boozed': False, 'reliable': False, 'swedish': False, 'adds': False, 'depth': False, 'significance': False, 'plodding': False, 'aberdeen': False, 'sentimental': False, 'painfully': False, 'mundane': False, 'european': False, 'playwright': False, 'august': False, 'strindberg': False, 'built': False, 'career': False, 'families': False, 'relationships': False, 'paralyzed': False, 'secrets': False, 'unable': False, 'express': False, 'longings': False, 'accurate': False, 'reflection': False, 'strives': False, 'focusing': False, 'pairing': False, 'alcoholic': False, 'tomas': False, 'alienated': False, 'openly': False, 'hostile': False, 'yuppie': False, 'kaisa': False, 'lena': False, 'headey': False, 'gossip': False, 'haven': False, 'spoken': False, 'wouldn': False, 'norway': False, 'scotland': False, 'automobile': False, 'charlotte': False, 'rampling': False, 'sand': False, 'rotting': False, 'hospital': False, 'bed': False, 'cancer': False, 'soap': False, 'opera': False, 'twist': False, 'days': False, 'live': False, 'blitzed': False, 'step': False, 'foot': False, 'plane': False, 'hits': False, 'open': False, 'loathing': False, 'each': False, 'periodic': False, 'stops': False, 'puke': False, 'dashboard': False, 'whenever': False, 'muttering': False, 'rotten': False, 'turned': False, 'sloshed': False, 'viewpoint': False, 'recognizes': False, 'apple': False, 'hasn': False, 'fallen': False, 'tree': False, 'nosebleeds': False, 'snorting': False, 'coke': False, 'sabotages': False, 'personal': False, 'indifference': False, 'restrain': False, 'vindictive': False, 'temper': False, 'ain': False, 'pair': False, 'true': False, 'notes': False, 'unspoken': False, 'familial': False, 'empathy': False, 'note': False, 'repetitively': False, 'bitchy': False, 'screenwriters': False, 'kristin': False, 'amundsen': False, 'hans': False, 'petter': False, 'moland': False, 'fabricate': False, 'series': False, 'contrivances': False, 'propel': False, 'forward': False, 'roving': False, 'hooligans': False, 'drunks': False, 'nosy': False, 'flat': False, 'tires': False, 'figure': False, 'schematic': False, 'convenient': False, 'narrative': False, 'reach': False, 'unveil': False, 'dark': False, 'past': False, 'simplistic': False, 'devices': False, 'trivialize': False, 'conflict': False, 'mainstays': False, 'wannabe': False, 'exists': False, 'purely': False, 'sake': False, 'weak': False, 'unimaginative': False, 'casting': False, 'thwarts': False, 'pivotal': False, 'role': False, 'were': False, 'stronger': False, 'actress': False, 'perhaps': False, 'coast': False, 'performances': False, 'moody': False, 'haunting': False, 'cinematography': False, 'rendering': False, 'pastoral': False, 'ghost': False, 'reference': False, 'certain': False, 'superior': False, 'indie': False, 'intentional': False, 'busy': False, 'using': False, 'furrowed': False, 'brow': False, 'convey': False, 'twitch': False, 'insouciance': False, 'paying': False, 'attention': False, 'maybe': False, 'doing': False, 'reveal': False, 'worthwhile': False, 'earlier': False, 'released': False, '2001': False, 'jonathan': False, 'nossiter': False, 'captivating': False, 'wonders': False, 'disturbed': False, 'parental': False, 'figures': False, 'bound': False, 'ceremonial': False, 'wedlock': False, 'differences': False, 'presented': False, 'significant': False, 'luminous': False, 'diva': False, 'preening': False, 'static': False, 'solid': False, 'performance': False, 'pathetic': False, 'drunk': False, 'emote': False, 'besides': False, 'catatonic': False, 'sorrow': False, 'genuine': False, 'ferocity': False, 'sexually': False, 'charged': False, 'frisson': False, 'during': False, 'understated': False, 'confrontations': False, 'suggest': False, 'gray': False, 'zone': False, 'complications': False, 'accompany': False, 'torn': False, 'romance': False, 'stifled': False, 'curiosity': False, 'thoroughly': False, 'explores': False, 'neurotic': False, 'territory': False, 'delving': False, 'americanization': False, 'greece': False, 'mysticism': False, 'illusion': False, 'deflect': False, 'pain': False, 'overloaded': False, 'willing': False, 'come': False, 'traditional': False, 'ambitious': False, 'sleepwalk': False, 'rhythms': False, 'timing': False, 'driven': False, 'stories': False, 'complexities': False, 'depressing': False, 'answer': False, 'lawrence': False, 'kasdan': False, 'trite': False, 'useful': False, 'grand': False, 'canyon': False, 'steve': False, 'martin': False, 'mogul': False, 'pronounces': False, 'riddles': False, 'answered': False, 'advice': False, 'heart': False, 'french': False, 'sees': False, 'parents': False, 'tim': False, 'roth': False, 'oops': False, 'vows': False, 'taught': False, 'musketeer': False, 'dude': False, 'used': False, 'fourteen': False, 'arrgh': False, 'swish': False, 'zzzzzzz': False, 'original': False, 'lacks': False, 'energy': False, 'next': False, 'hmmmm': False, 'justin': False, 'chambers': False, 'basically': False, 'uncharismatic': False, 'version': False, 'chris': False, 'o': False, 'donnell': False, 'range': False, 'mena': False, 'suvari': False, 'thora': False, 'birch': False, 'dungeons': False, 'dragons': False, 'miscast': False, 'deliveries': False, 'piss': False, 'poor': False, 'ms': False, 'fault': False, 'definitely': False, 'higher': False, 'semi': False, 'saving': False, 'grace': False, 'wise': False, 'irrepressible': False, 'once': False, 'thousand': False, 'god': False, 'beg': False, 'agent': False, 'marketplace': False, 'modern': False, 'day': False, 'roles': False, 'romantic': False, 'gunk': False, 'alright': False, 'yeah': False, 'yikes': False, 'notches': False, 'fellas': False, 'blares': False, 'ear': False, 'accentuate': False, 'annoy': False, 'important': False, 'behind': False, 'recognize': False, 'epic': False, 'fluffy': False, 'rehashed': False, 'cake': False, 'created': False, 'shrewd': False, 'advantage': False, 'kung': False, 'fu': False, 'phenomenon': False, 'test': False, 'dudes': False, 'keep': False, 'reading': False, 'editing': False, 'shoddy': False, 'banal': False, 'stilted': False, 'plentiful': False, 'top': False, 'horse': False, 'carriage': False, 'stand': False, 'opponent': False, 'scampering': False, 'cut': False, 'mouseketeer': False, 'rope': False, 'tower': False, 'jumping': False, 'chords': False, 'hanging': False, 'says': False, '14': False, 'shirt': False, 'strayed': False, 'championing': False, 'fun': False, 'stretches': False, 'atrocious': False, 'lake': False, 'reminded': False, 'school': False, 'cringe': False, 'musketeers': False, 'fat': False, 'raison': False, 'etre': False, 'numbers': False, 'hoping': False, 'packed': False, 'stuntwork': False, 'promoted': False, 'trailer': False, 'major': False, 'swashbuckling': False, 'beginning': False, 'finishes': False, 'juggling': False, 'ladders': False, 'ladder': False, 'definite': False, 'keeper': False, 'regurgitated': False, 'crap': False, 'tell': False, 'deneuve': False, 'placed': False, 'hullo': False, 'barely': False, 'ugh': False, 'small': False, 'annoyed': False, 'trash': False, 'gang': False, 'vow': False, 'stay': False, 'thank': False, 'outlaws': False, '5': False, 'crouching': False, 'tiger': False, 'hidden': False, 'matrix': False, 'replacement': False, 'killers': False, '6': False, 'romeo': False, 'die': False, 'shanghai': False, 'noon': False, 'remembered': False, 'dr': False, 'hannibal': False, 'lecter': False, 'michael': False, 'mann': False, 'forensics': False, 'thriller': False, 'manhunter': False, 'scottish': False, 'brian': False, 'cox': False, 'works': False, 'usually': False, 'schlock': False, 'halfway': False, 'goodnight': False, 'meaty': False, 'substantial': False, 'brilliant': False, 'check': False, 'dogged': False, 'inspector': False, 'opposite': False, 'frances': False, 'mcdormand': False, 'ken': False, 'loach': False, 'agenda': False, 'harrigan': False, 'disturbing': False, 'l': False, 'e': False, '47': False, 'picked': False, 'sundance': False, 'distributors': False, 'scared': False, 'budge': False, 'dares': False, 'speak': False, 'expresses': False, 'seeking': False, 'adolescents': False, 'pad': False, 'bothered': False, 'members': False, 'presentation': False, 'oddly': False, 'empathetic': False, 'light': False, 'tempered': False, 'robust': False, 'listens': False, 'opposed': False, 'friends': False, 'wire': False, 'act': False, 'confused': False, 'lives': False, 'pay': False, 'courtship': False, 'charming': False, 'temptations': False, 'grown': False, 'stands': False, 'island': False, 'expressway': False, 'slices': False, 'malls': False, 'class': False, 'homes': False, 'suburbia': False, 'filmmaker': False, 'cuesta': False, 'uses': False, 'transparent': False, 'metaphor': False, '15': False, 'protagonist': False, 'howie': False, 'franklin': False, 'dano': False, 'reveals': False, 'morbid': False, 'preoccupation': False, 'death': False, 'citing': False, 'deaths': False, 'alan': False, 'j': False, 'pakula': False, 'songwriter': False, 'harry': False, 'chapin': False, 'exit': False, '52': False, 'fascinated': False, 'feelings': False, 'projected': False, 'bright': False, 'move': False, 'force': False, 'complex': False, 'molesters': False, 'beast': False, 'ashamed': False, 'worked': False, 'ill': False, 'advised': False, 'foray': False, 'unnecessary': False, 'padding': False, 'miserable': False, 'bruce': False, 'altman': False, 'seat': False, 'collar': False, 'crime': False, 'degenerate': False, 'youngsters': False, 'kicks': False, 'robbing': False, 'houses': False, 'homoerotic': False, 'shenanigans': False, 'ass': False, 'terrio': False, 'billy': False, 'kay': False, 'handsome': False, 'artful': False, 'dodger': False, 'add': False, 'themes': False, 'suburban': False, 'ennui': False, 'needed': False, 'awkward': False, 'subplots': False, 'concurrently': False, 'relationship': False, 'evenly': False, 'paced': False, 'exceptionally': False, 'acted': False, 'sporting': False, 'baseball': False, 'cap': False, 'faded': False, 'marine': False, 'tattoo': False, 'bluff': False, 'bluster': False, 'quiet': False, 'glance': False, 'withdrawn': False, 'whose': False, 'dramatic': False, 'choices': False, 'broad': False, 'calling': False, 'haley': False, 'restraint': False, 'admirable': False, 'screenplay': False, 'material': False, 'reads': False, 'walt': False, 'whitman': False, 'poem': False, 'moment': False, 'precious': False, 'lingers': False, 'ecstatic': False, 'hearing': False, 'glenn': False, 'gould': False, 'performing': False, 'bach': False, 'goldberg': False, 'variations': False, 'involving': False, 'walter': False, 'masterson': False, 'jealous': False, 'newbie': False, 'thread': False, 'predictably': False, 'leads': False, 'observational': False, 'portrait': False, 'alienation': False, 'royally': False, 'screwed': False, 'terry': False, 'zwigoff': False, 'superb': False, 'confidence': False, 'ambivalent': False, 'typical': False, 'cinema': False, 'wrap': False, 'bullet': False, 'sparing': False, 'writers': False, 'philosophical': False, 'regard': False, 'countless': False, 'share': False, 'blockbuster': False, 'solved': False, 'obstacle': False, 'removed': False, 'often': False, 'extend': False, 'question': False, 'striving': False, 'realism': False, 'destroy': False, 'janeane': False, 'garofalo': False, 'couple': False, 'truth': False, 'cats': False, 'dogs': False, 'excruciating': False, 'matchmaker': False, 'books': False, 'plods': False, 'predestined': False, 'surprises': False, 'jumps': False, 'popular': False, 'political': False, 'satire': False, 'bandwagon': False, 'campaign': False, 'aide': False, 'massacusetts': False, 'senator': False, 'sanders': False, 'reelection': False, 'denis': False, 'leary': False, 'stereotypical': False, 'strategist': False, 'ethics': False, 'scandal': False, 'plagued': False, 'play': False, 'irish': False, 'roots': False, 'boston': False, 'roman': False, 'catholic': False, 'democrat': False, 'contingent': False, 'kennedy': False, 'family': False, 'orders': False, 'ireland': False, 'relatives': False, 'exploit': False, 'soon': False, 'learns': False, 'said': False, 'done': False, 'mantra': False, 'tiny': False, 'misses': False, 'bus': False, 'hotel': False, 'ends': False, 'smallest': False, 'trashiest': False, 'dog': False, 'luggage': False, 'roger': False, 'ebert': False, 'calls': False, 'meet': False, 'happens': False, 'unconventional': False, 'cinematic': False, 'walks': False, 'bathroom': False, 'nude': False, 'sean': False, 'david': False, 'hara': False, 'bathtub': False, 'points': False, 'guessing': False, 'water': False, 'hates': False, 'instant': False, 'saw': False, 'irishman': False, 'hate': False, 'awhile': False, 'succumb': False, 'charms': False, 'happily': False, 'superficial': False, 'detail': False, 'throw': False, 'turmoil': False, 'reconcile': False, 'tune': False, 'annual': False, 'matchmaking': False, 'festival': False, 'lonely': False, 'county': False, 'future': False, 'bliss': False, 'milo': False, 'shea': False, 'snyder': False, 'pops': False, 'onscreen': False, 'spew': False, 'souls': False, 'assured': False, 'match': False, 'utter': False, 'predictability': False, 'message': False, 'respectable': False, 'person': False, 'comedic': False, 'distinction': False, 'sell': False, 'script': False, 'excited': False, 'stays': False, 'stateside': False, 'yelling': False, 'phone': False, 'undoes': False, 'microphone': False, 'speech': False, 'known': False, 'flying': False, 'hong': False, 'kong': False, 'style': False, 'filmmaking': False, 'classics': False, 'nod': False, 'asia': False, 'france': False, 'lukewarm': False, 'dumas': False, 'asian': False, 'stunt': False, 'coordinator': False, 'xing': False, 'xiong': False, 'prior': False, 'attempts': False, 'choreography': False, 'laughable': False, 'van': False, 'damme': False, 'vehicle': False, 'team': False, 'dennis': False, 'rodman': False, 'simon': False, 'sez': False, 'thrown': False, 'air': False, 'result': False, 'tepid': False, 'adventure': False, 'rip': False, 'stinks': False, 'indiana': False, 'jones': False, 'simple': False, 'grandmother': False, 'adapted': False, 'artagnan': False, 'vengeful': False, 'son': False, 'slain': False, 'travels': False, 'paris': False, 'join': False, 'royal': False, 'meets': False, 'cunning': False, 'cardinal': False, 'richelieu': False, 'stephen': False, 'rea': False, 'overthrow': False, 'associate': False, 'febre': False, 'killer': False, 'disbanded': False, 'rounds': False, 'aramis': False, 'nick': False, 'moran': False, 'athos': False, 'jan': False, 'gregor': False, 'kremp': False, 'porthos': False, 'steven': False, 'spiers': False, 'wrongfully': False, 'imprisoned': False, 'leader': False, 'treville': False, 'prison': False, 'frisky': False, 'interest': False, 'chambermaid': False, 'francesca': False, 'footsy': False, 'coo': False, 'hunts': False, 'queen': False, 'captured': False, 'menancing': False, 'forcing': False, 'regroup': False, 'leading': False, 'charge': False, 'peter': False, 'hyams': False, 'wanted': False, 'blend': False, 'eastern': False, 'western': False, 'styles': False, 'disaster': False, 'reality': False, 'ones': False, 'jet': False, 'li': False, 'risk': False, 'ironically': False, 'swordplay': False, 'spread': False, 'carry': False, 'bulk': False, '30': False, 'minute': False, 'picture': False, 'weighs': False, 'monotonous': False, 'gene': False, 'quintano': False, 'prosaic': False, 'wedding': False, 'planner': False, 'mousy': False, 'artangnan': False, 'hyam': False, 'candles': False, 'torches': False, 'grime': False, 'filth': False, '17th': False, 'noted': False, 'standout': False, 'mortal': False, 'kombat': False, 'annihilation': False, 'reviewed': False, 'multiple': False, 'levels': False, 'rampant': False, 'usage': False, 'randian': False, 'subtext': False, 'pervades': False, 'occasionaly': False, 'ironic': False, 'depreciating': False, 'remark': False, 'tosses': False, 'clearly': False, 'marxist': False, 'imagery': False, 'kidding': False, 'seriousness': False, 'fair': False, '*': False, 'necessary': False, 'viewpoints': False, 'watcher': False, 'unfamiliar': False, 'marginally': False, 'fan': False, 'games': False, '1995': False, 'concerned': False, 'martial': False, 'arts': False, 'tournament': False, 'decide': False, 'fate': False, 'billion': False, 'inhabitants': False, 'mortals': False, 'theory': False, 'prevented': False, 'emperor': False, 'shao': False, 'khan': False, 'arriving': False, 'ready': False, 'assumed': False, 'stance': False, 'extraordinarily': False, 'myself': False, 'game': False, 'enjoyed': False, 'directors': False, 'knew': False, 'limitations': False, 'try': False, 'overachieve': False, 'accompanying': False, 'intersperesed': False, 'distracting': False, 'non': False, 'intrusive': False, 'bits': False, 'fluff': False, 'passing': False, 'smashing': False, 'success': False, 'box': False, 'office': False, 'picks': False, 'precisely': False, 'introductory': False, 'exposition': False, 'anyways': False, 'hell': False, 'silly': False, 'rule': False, 'winning': False, 'thereafter': False, 'approximately': False, '85': False, 'alternates': False, 'general': False, 'impression': False, 'producers': False, 'thought': False, 'formula': False, 'volumes': False, 'truly': False, 'sandra': False, 'hess': False, 'sonya': False, 'blade': False, 'execrable': False, 'convince': False, 'loved': False, 'johnny': False, 'greased': False, 'worst': False, 'mis': False, 'james': False, 'remar': False, 'raiden': False, 'thunder': False, 'christopher': False, 'lambert': False, 'japanese': False, 'revered': False, 'chinese': False, 'mystics': False, 'against': False, 'lister': False, 'jr': False, 'president': False, 'u': False, 'fifth': False, 'utility': False, 'totally': False, 'luxury': False, 'amused': False, 'awareness': False, 'introduced': False, 'meaningless': False, 'sidetracks': False, 'including': False, 'muddled': False, 'liu': False, 'kang': False, 'shou': False, 'seeks': False, 'nightwolf': False, 'litefoot': False, 'mystical': False, 'hallucination': False, 'jade': False, 'irina': False, 'pantaeva': False, 'reasons': False, 'unless': False, 'critiques': False, 'apply': False, 'worse': False, 'bridgette': False, 'convincing': False, 'looked': False, 'mimicing': False, 'movements': False, 'choreographer': False, 'knows': False, 'puts': False, 'believable': False, 'jax': False, 'earthquake': False, 'animality': False, 'bonus': False, 'similar': False, 'moves': False, 'mistakenly': False, 'hang': False, 'lamest': False, 'involved': False, 'mud': False, 'wrestling': False, 'lame': False, 'politically': False, 'incorrect': False, 'noticed': False, 'remarked': False, 'upon': False, 'emporer': False, 'perform': False, 'animalities': False, 'motaro': False, 'sheeva': False, 'lifelike': False, 'goro': False, 'enjoy': False, 'femme': False, 'la': False, 'nikita': False, 'backdraft': False, 'sliver': False, 'cindy': False, 'crawford': False, 'anne': False, 'parillaud': False, 'conspire': False, 'shattered': False, 'image': False, 'hooey': False, 'stallone': False, 'stone': False, 'specialist': False, 'poses': False, 'recurring': False, 'assassin': False, 'honeymooning': False, 'jamaica': False, 'believe': False, 'runs': False, 'painful': False, 'pedestrian': False, 'siouxsie': False, 'sioux': False, 'wig': False, 'emotionless': False, 'leather': False, 'clothing': False, 'seattle': False, 'moping': False, 'karen': False, 'endlessly': False, 'complicated': False, 'plots': False, 'helps': False, 'crisp': False, 'modicum': False, 'shakespearean': False, 'begin': False, 'saddled': False, 'leaden': False, 'zero': False, 'breaking': False, 'cardboard': False, 'confines': False, 'insist': False, 'couldn': False, 'huh': False, 'wonderful': False, 'interchange': False, 'charm': False, 'faster': False, 'learned': False, 'cereal': False, 'crybaby': False, 'imagines': False, 'stranger': False, 'sends': False, 'flowers': False, 'chromium': False, 'tough': False, 'nails': False, 'crack': False, 'killing': False, 'machine': False, 'shoots': False, 'mirrors': False, 'stock': False, 'interested': False, 'nest': False, 'egg': False, 'pave': False, 'paradise': False, 'put': False, 'parking': False, 'graham': False, 'greene': False, 'barbet': False, 'schroeder': False, 'reversal': False, 'fortune': False, 'co': False, 'produced': False, 'agonizingly': False, 'b': False, 'york': False, 'vampires': False, 'latest': False, 'opus': False, 'bent': False, 'outing': False, 'aptly': False, 'titled': False, 'suppose': False, 'went': False, 'prefixed': False, 'possessive': False, 'unashamed': False, 'punctuated': False, 'above': False, 'storyline': False, 'borders': False, 'idiotic': False, 'chaotic': False, 'dormant': False, 'martians': False, 'swirling': False, 'gases': False, 'awakened': False, 'meddling': False, 'possess': False, 'hapless': False, 'colonists': False, 'testy': False, 'marilyn': False, 'manson': False, 'lookalikes': False, 'pooh': False, 'bah': False, 'counsel': False, 'official': False, 'melanie': False, 'ballard': False, 'natasha': False, 'henstridge': False, 'sub': False, 'species': False, 'returnee': False, 'officer': False, 'incarcerated': False, 'felon': False, 'second': False, 'blonde': False, 'pulled': False, 'tightly': False, 'awkwardly': False, 'ponytail': False, 'ice': False, 'cube': False, 'appropriately': False, 'named': False, 'pam': False, 'grier': False, 'briefly': False, 'whom': False, 'wonder': False, 'host': False, 'extras': False, 'therefore': False, 'bird': False, 'shots': False, 'sprawling': False, 'metropolis': False, 'reddish': False, 'state': False, 'art': False, 'trademark': False, 'finding': False, 'department': False, 'lock': False, 'laughing': False, 'barrel': False, 'fare': False, 'dingy': False, 'interiors': False, 'cluttered': False, 'exteriors': False, 'inane': False, 'lots': False, 'scarred': False, 'crazed': False, 'aliens': False, 'weaponry': False, 'warfare': False, 'warning': False, 'spontaneously': False, 'stupidly': False, 'villains': False, 'border': False, 'conflicts': False, 'shootouts': False, 'minus': False, 'hissing': False, 'plissken': False, 'miss': False, 'dubbed': False, 'minimalist': False, 'soundtracks': False, 'graduated': False, 'effective': False, 'scoring': False, 'highlighting': False, 'screeching': False, 'guitar': False, 'fortunately': False, 'drowns': False, 'er': False, 'audible': False, 'priceless': False, 'proven': False, 'infertile': False, 'breeding': False, 'ground': False, 'stillborn': False, 'val': False, 'kilmer': False, 'disappointing': False, 'weekend': False, 'overshadowed': False, 'sequels': False, 'among': False, 'pie': False, 'rush': False, 'absent': False, 'references': False, 'set': False, 'perth': False, 'amboys': False, 'closest': False, 'neighbor': False, 'slap': False, 'upside': False, '1': False, 'keeps': False, 'miraculously': False, 'pretend': False, 'means': False, 'intelligent': False, 'grade': False, 'sci': False, 'fi': False, 'singularly': False, 'luck': False, 'starting': False, 'alicia': False, 'silverstone': False, 'beautiful': False, 'creatures': False, 'green': False, 'critic': False, 'large': False, 'choosing': False, 'strikes': False, 'crush': False, 'slow': False, 'moving': False, 'horrific': False, 'adaptation': False, 'clueless': False, 'mailed': False, 'saying': False, 'theater': False, 'expecting': False, 'preview': False, 'crazymadinlove': False, 'whiny': False, 'unlikable': False, 'wasn': False, 'yelled': False, 'f': False, '$&#': False, 'laugh': False, 'agreement': False, 'walked': False, 'babysitter': False, 'inner': False, 'compulsion': False, 'understand': False, 'rent': False, 'regret': False, 'paragraph': False, 'competition': False, 'criticizing': False, 'thin': False, 'shred': False, 'slower': False, 'glacier': False, 'writing': False, 'appeal': False, 'whatsoever': False, 'pointlessly': False, 'concluded': False, 'violent': False, 'plus': False, 'equals': False, 'spends': False, 'twenty': False, 'bubble': False, 'bath': False, 'joined': False, 'four': False, 'features': False, 'settle': False, 'friday': False, 'cocktail': False, 'automatically': False, 'nights': False, 'trods': False, 'discover': False, 'silent': False, 'object': False, 'male': False, 'fantasies': False, 'thinks': False, 'recapture': False, 'youth': False, 'boyfriend': False, 'lets': False, 'wild': False, 'spying': False, 'outside': False, 'prepubescent': False, 'keyhole': False, 'aged': False, 'counterpart': False, 'asked': False, '200': False, 'pound': False, 'silk': False, 'teddy': False, 'fanatasies': False, 'realm': False, 'pg': False, 'imagine': False, 'cinemax': False, 'staple': False, 'absolutely': False, 'pointed': False, 'classify': False, 'mix': False, 'various': False, 'encounters': False, 'third': False, 'space': False, 'odyssey': False, 'apollo': False, 'contact': False, 'hope': False, 'melange': False, 'considering': False, 'disastrous': False, 'results': False, 'sucks': False, 'rescue': False, 'astronauts': False, 'sent': False, '2020': False, 'unknown': False, 'aviators': False, 'visit': False, 'underwhelming': False, 'describe': False, 'uneven': False, 'promise': False, 'buzz': False, 'neutral': False, 'cherry': False, 'colored': False, 'nerdies': False, 'techie': False}\n"
          ]
        }
      ],
      "metadata": {
        "colab": {
          "base_uri": "https://localhost:8080/"
        },
        "id": "Ot0-JAdpsK63",
        "outputId": "9a962fdf-3738-4b9f-d989-becb7ab2f448"
      }
    },
    {
      "cell_type": "markdown",
      "source": [
        "Tutorial 13\n"
      ],
      "metadata": {
        "id": "ckF8Eil1vSJn"
      }
    },
    {
      "cell_type": "code",
      "execution_count": 10,
      "source": [
        "# Tutorial 13\n",
        "# train: feed data to algorithms with the first 1900 elements\n",
        "training_set = featuresets[:1900]\n",
        "# feed through the featuresets and expect a prediction to come out to later test it agains the true label\n",
        "# see how accurate it is\n",
        "testing_set = featuresets[1900:]\n",
        "\n",
        "# == Naive Bayes Algorithm ==\n",
        "# Doesn't require much processing, very basic algorithm. Very scalable but has a lot of flaws\n",
        "\n",
        "# posterior is the likelihood of something to be positive or negative\n",
        "# posterior = prior_occurences * likelihood / evidence\n",
        "\n",
        "classifier = nltk.NaiveBayesClassifier.train(training_set)\n",
        "print(\"Naive Bayes accuracy: \", (nltk.classify.accuracy(classifier, testing_set) * 100))\n",
        "# shows most popular words for both pos and neg and wether they tend to be positive or negative\n",
        "classifier.show_most_informative_features(15)\n",
        "# neg: post = 9.5 : 1.0 (read as 9.5 times more likely than to appear if negative than if positive)\n",
        "# next is imporve reliability\n",
        "# in ml terms, this model has a lot of variance, so it is not very reliable"
      ],
      "outputs": [
        {
          "output_type": "stream",
          "name": "stdout",
          "text": [
            "Naive Bayes accuracy:  81.0\n",
            "Most Informative Features\n",
            "                     ugh = True              neg : pos    =      9.5 : 1.0\n",
            "                   sucks = True              neg : pos    =      9.3 : 1.0\n",
            "                 frances = True              pos : neg    =      9.1 : 1.0\n",
            "                  annual = True              pos : neg    =      8.5 : 1.0\n",
            "                 martian = True              neg : pos    =      7.6 : 1.0\n",
            "             silverstone = True              neg : pos    =      7.6 : 1.0\n",
            "           unimaginative = True              neg : pos    =      7.6 : 1.0\n",
            "                 idiotic = True              neg : pos    =      7.1 : 1.0\n",
            "               atrocious = True              neg : pos    =      6.9 : 1.0\n",
            "                    mena = True              neg : pos    =      6.9 : 1.0\n",
            "              schumacher = True              neg : pos    =      6.9 : 1.0\n",
            "                  shoddy = True              neg : pos    =      6.9 : 1.0\n",
            "                  suvari = True              neg : pos    =      6.9 : 1.0\n",
            "                everyday = True              pos : neg    =      6.8 : 1.0\n",
            "                  turkey = True              neg : pos    =      6.5 : 1.0\n"
          ]
        }
      ],
      "metadata": {
        "id": "xTQ-iIXnvTZq"
      }
    },
    {
      "cell_type": "code",
      "execution_count": 17,
      "source": [
        "# Pickle is a way to save python objects so we can then load them\n",
        "# In this case we save the classifier training since that is what takes most time\n",
        "# Tutorial 14\n",
        "\n",
        "import nltk\n",
        "import random\n",
        "from nltk.corpus import movie_reviews\n",
        "import pickle\n",
        "\n",
        "documents = [(list(movie_reviews.words(fileid)), category)\n",
        "              for category in movie_reviews.categories()\n",
        "              for fileid in movie_reviews.fileids(category)]\n",
        "random.shuffle(documents)\n",
        "all_words = []\n",
        "for w in movie_reviews.words():\n",
        "  all_words.append(w.lower())\n",
        "\n",
        "all_words = nltk.FreqDist(all_words)\n",
        "word_features = list(all_words.keys())[:3000]\n",
        "\n",
        "def find_features(document):\n",
        "  words = set(document)\n",
        "  features = {}\n",
        "  for w in word_features:\n",
        "    features[w] = (w in words)\n",
        "  return features\n",
        "featuresets = [(find_features(rev), category) for (rev, category) in documents]\n",
        "\n",
        "training_set = featuresets[:1900]\n",
        "testing_set = featuresets[1900:]\n",
        "\n",
        "# classifier = nltk.NaiveBayesClassifier.train(training_set)\n",
        "\n",
        "classifier_f = open(\"naivebayes.pickle\", \"rb\")\n",
        "classifier = pickle.load(classifier_f)\n",
        "classifier_f.close()\n",
        "\n",
        "\n",
        "print(\"Naive Bayes accuracy: \", (nltk.classify.accuracy(classifier, testing_set) * 100))\n",
        "# shows most popular words for both pos and neg and wether they tend to be positive or negative\n",
        "classifier.show_most_informative_features(15)\n",
        "\n",
        "# open with with write_bytes\n",
        "# save_classifier = open(\"naivebayes.pickle\", \"wb\")\n",
        "# pickle.dump(classifier, save_classifier)\n",
        "# save_classifier.close()"
      ],
      "outputs": [
        {
          "output_type": "stream",
          "name": "stdout",
          "text": [
            "Naive Bayes accuracy:  87.0\n",
            "Most Informative Features\n",
            "                   sucks = True              neg : pos    =     10.4 : 1.0\n",
            "                  annual = True              pos : neg    =      9.9 : 1.0\n",
            "                 frances = True              pos : neg    =      9.2 : 1.0\n",
            "           unimaginative = True              neg : pos    =      8.2 : 1.0\n",
            "                  regard = True              pos : neg    =      7.1 : 1.0\n",
            "                 idiotic = True              neg : pos    =      7.1 : 1.0\n",
            "                    mena = True              neg : pos    =      6.9 : 1.0\n",
            "             silverstone = True              neg : pos    =      6.9 : 1.0\n",
            "                  suvari = True              neg : pos    =      6.9 : 1.0\n",
            "                obstacle = True              pos : neg    =      6.5 : 1.0\n",
            "                 singers = True              pos : neg    =      6.5 : 1.0\n",
            "                  turkey = True              neg : pos    =      6.4 : 1.0\n",
            "                 jumbled = True              neg : pos    =      6.2 : 1.0\n",
            "                 kidding = True              neg : pos    =      6.2 : 1.0\n",
            "                  shoddy = True              neg : pos    =      6.2 : 1.0\n"
          ]
        }
      ],
      "metadata": {}
    },
    {
      "cell_type": "code",
      "execution_count": 3,
      "source": [
        "# Tutorial 15\n",
        "# Use scikit_learn with nltk module (nltk isnt a ml module, its just a toolkit that helps us process text)\n",
        "# sklearn has its own models that we can use\n",
        "\n",
        "import nltk\n",
        "import random\n",
        "import pickle\n",
        "\n",
        "from nltk.corpus import movie_reviews\n",
        "\n",
        "# Wrapper of nltk to use sklearn classifier\n",
        "from nltk.classify.scikitlearn import SklearnClassifier\n",
        "from sklearn.naive_bayes import MultinomialNB, GaussianNB, BernoulliNB\n",
        "from sklearn.linear_model import LogisticRegression, SGDClassifier\n",
        "from sklearn.svm import SVC, LinearSVC, NuSVC\n",
        "\n",
        "documents = [(list(movie_reviews.words(fileid)), category)\n",
        "              for category in movie_reviews.categories()\n",
        "              for fileid in movie_reviews.fileids(category)]\n",
        "random.shuffle(documents)\n",
        "all_words = []\n",
        "for w in movie_reviews.words():\n",
        "  all_words.append(w.lower())\n",
        "\n",
        "all_words = nltk.FreqDist(all_words)\n",
        "word_features = list(all_words.keys())[:3000]\n",
        "\n",
        "def find_features(document):\n",
        "  words = set(document)\n",
        "  features = {}\n",
        "  for w in word_features:\n",
        "    features[w] = (w in words)\n",
        "  return features\n",
        "featuresets = [(find_features(rev), category) for (rev, category) in documents]\n",
        "\n",
        "training_set = featuresets[:1900]\n",
        "testing_set = featuresets[1900:]\n",
        "\n",
        "# classifier = nltk.NaiveBayesClassifier.train(training_set)\n",
        "\n",
        "classifier_f = open(\"naivebayes.pickle\", \"rb\")\n",
        "classifier = pickle.load(classifier_f)\n",
        "classifier_f.close()\n",
        "\n",
        "\n",
        "print(\"Naive Bayes accuracy: \", (nltk.classify.accuracy(classifier, testing_set) * 100))\n",
        "# shows most popular words for both pos and neg and wether they tend to be positive or negative\n",
        "classifier.show_most_informative_features(15)\n",
        "\n",
        "classifier_f = open(\"naivebayes.pickle\", \"rb\")\n",
        "classifier = pickle.load(classifier_f)\n",
        "classifier_f.close()\n",
        "\n",
        "\n",
        "print(\"Original Naive Bayes accuracy: \", (nltk.classify.accuracy(classifier, testing_set) * 100))\n",
        "classifier.show_most_informative_features(15)\n",
        "\n",
        "MNB_classifier = SklearnClassifier(MultinomialNB())\n",
        "MNB_classifier.train(training_set)\n",
        "print(\"Multinomial Naive Bayes classifier\", (nltk.classify.accuracy(MNB_classifier, testing_set) * 100))\n",
        "\n",
        "\n",
        "# GaussianNB_classifier = SklearnClassifier(GaussianNB())\n",
        "# GaussianNB_classifier.train(training_set)\n",
        "# print(\"Gaussian Naive Bayes classifier\", (nltk.classify.accuracy(GaussianNB_classifier, testing_set) * 100))\n",
        "\n",
        "\n",
        "BernoulliNB_classifier = SklearnClassifier(BernoulliNB())\n",
        "BernoulliNB_classifier.train(training_set)\n",
        "print(\"Bernoulli Naive Bayes classifier accuracy percent\", (nltk.classify.accuracy(BernoulliNB_classifier, testing_set) * 100))\n",
        "\n",
        "LR_classifier = SklearnClassifier(LogisticRegression())\n",
        "LR_classifier.train(training_set)\n",
        "print(\"LogisticRegression classifier accuracy percent\", (nltk.classify.accuracy(LR_classifier, testing_set) * 100))\n",
        "\n",
        "SGD_classifier = SklearnClassifier(SGDClassifier())\n",
        "SGD_classifier.train(training_set)\n",
        "print(\"SDGClassifier classifier accuracy percent\", (nltk.classify.accuracy(SGD_classifier, testing_set) * 100))\n",
        "\n",
        "SVC_classifier = SklearnClassifier(SVC())\n",
        "SVC_classifier.train(training_set)\n",
        "print(\"SVC classifier accuracy percent\", (nltk.classify.accuracy(SVC_classifier, testing_set) * 100))\n",
        "\n",
        "LSVC_classifier = SklearnClassifier(LinearSVC())\n",
        "LSVC_classifier.train(training_set)\n",
        "print(\"LinearSVC classifier accuracy percent\", (nltk.classify.accuracy(LSVC_classifier, testing_set) * 100))\n",
        "\n",
        "NuSVC_classifier = SklearnClassifier(NuSVC())\n",
        "NuSVC_classifier.train(training_set)\n",
        "print(\"NuSVC classifier accuracy percent\", (nltk.classify.accuracy(NuSVC_classifier, testing_set) * 100))\n",
        "\n",
        "# Whichever classification gets more votes, that is what we will use as the label\n",
        "# Create a confidence score algonside our classifier that determines how sure we are of a certain classification\n"
      ],
      "outputs": [
        {
          "output_type": "stream",
          "name": "stdout",
          "text": [
            "Naive Bayes accuracy:  94.0\n",
            "Most Informative Features\n",
            "                   sucks = True              neg : pos    =     10.4 : 1.0\n",
            "                  annual = True              pos : neg    =      9.9 : 1.0\n",
            "                 frances = True              pos : neg    =      9.2 : 1.0\n",
            "           unimaginative = True              neg : pos    =      8.2 : 1.0\n",
            "                  regard = True              pos : neg    =      7.1 : 1.0\n",
            "                 idiotic = True              neg : pos    =      7.1 : 1.0\n",
            "                    mena = True              neg : pos    =      6.9 : 1.0\n",
            "             silverstone = True              neg : pos    =      6.9 : 1.0\n",
            "                  suvari = True              neg : pos    =      6.9 : 1.0\n",
            "                obstacle = True              pos : neg    =      6.5 : 1.0\n",
            "                 singers = True              pos : neg    =      6.5 : 1.0\n",
            "                  turkey = True              neg : pos    =      6.4 : 1.0\n",
            "                 jumbled = True              neg : pos    =      6.2 : 1.0\n",
            "                 kidding = True              neg : pos    =      6.2 : 1.0\n",
            "                  shoddy = True              neg : pos    =      6.2 : 1.0\n",
            "Original Naive Bayes accuracy:  94.0\n",
            "Most Informative Features\n",
            "                   sucks = True              neg : pos    =     10.4 : 1.0\n",
            "                  annual = True              pos : neg    =      9.9 : 1.0\n",
            "                 frances = True              pos : neg    =      9.2 : 1.0\n",
            "           unimaginative = True              neg : pos    =      8.2 : 1.0\n",
            "                  regard = True              pos : neg    =      7.1 : 1.0\n",
            "                 idiotic = True              neg : pos    =      7.1 : 1.0\n",
            "                    mena = True              neg : pos    =      6.9 : 1.0\n",
            "             silverstone = True              neg : pos    =      6.9 : 1.0\n",
            "                  suvari = True              neg : pos    =      6.9 : 1.0\n",
            "                obstacle = True              pos : neg    =      6.5 : 1.0\n",
            "                 singers = True              pos : neg    =      6.5 : 1.0\n",
            "                  turkey = True              neg : pos    =      6.4 : 1.0\n",
            "                 jumbled = True              neg : pos    =      6.2 : 1.0\n",
            "                 kidding = True              neg : pos    =      6.2 : 1.0\n",
            "                  shoddy = True              neg : pos    =      6.2 : 1.0\n",
            "Multinomial Naive Bayes classifier 82.0\n",
            "Bernoulli Naive Bayes classifier 81.0\n"
          ]
        },
        {
          "output_type": "stream",
          "name": "stderr",
          "text": [
            "/Users/amsua/opt/anaconda3/lib/python3.8/site-packages/sklearn/linear_model/_logistic.py:762: ConvergenceWarning: lbfgs failed to converge (status=1):\n",
            "STOP: TOTAL NO. of ITERATIONS REACHED LIMIT.\n",
            "\n",
            "Increase the number of iterations (max_iter) or scale the data as shown in:\n",
            "    https://scikit-learn.org/stable/modules/preprocessing.html\n",
            "Please also refer to the documentation for alternative solver options:\n",
            "    https://scikit-learn.org/stable/modules/linear_model.html#logistic-regression\n",
            "  n_iter_i = _check_optimize_result(\n"
          ]
        },
        {
          "output_type": "stream",
          "name": "stdout",
          "text": [
            "LogisticRegression classifier 81.0\n",
            "SDGClassifier classifier 80.0\n",
            "SVC classifier 82.0\n",
            "LinearSVC classifier 82.0\n",
            "NuSVC classifier 81.0\n"
          ]
        }
      ],
      "metadata": {}
    },
    {
      "cell_type": "code",
      "execution_count": 5,
      "source": [
        "# Tutorial 16\n",
        "# Combining algorithms to create a voting system to create a new classifier\n",
        "# Whichever category gets the most votes, this creates a better accuracy and allows us to generate a confidence parameters\n",
        "\n",
        "import nltk\n",
        "import random\n",
        "import pickle\n",
        "\n",
        "from nltk.corpus import movie_reviews\n",
        "\n",
        "from nltk.classify.scikitlearn import SklearnClassifier\n",
        "from sklearn.naive_bayes import MultinomialNB, GaussianNB, BernoulliNB\n",
        "from sklearn.linear_model import LogisticRegression, SGDClassifier\n",
        "from sklearn.svm import SVC, LinearSVC, NuSVC\n",
        "\n",
        "from nltk.classify import ClassifierI\n",
        "from statistics import mode # for the most common vote\n",
        "\n",
        "class VoteClassifier(ClassifierI):\n",
        "  # pass a list of classifiers\n",
        "  def __init__(self, *classifiers):\n",
        "    self._classifiers = classifiers\n",
        "\n",
        "  def classify(self, features):\n",
        "    votes = []\n",
        "    for c in self._classifiers:\n",
        "      v = c.classify(features)\n",
        "      votes.append(v)\n",
        "    return mode(votes)\n",
        "\n",
        "  def confidence(self, features):\n",
        "    votes = []\n",
        "    for c in self._classifiers:\n",
        "      v = c.classify(features)\n",
        "      votes.append(v)\n",
        "    # counts how many occurences of most popular votes was in a list\n",
        "    choice_votes = votes.count(mode(votes))\n",
        "    conf = choice_votes / len(votes)\n",
        "    return conf\n",
        "    \n",
        "\n",
        "\n",
        "\n",
        "\n",
        "documents = [(list(movie_reviews.words(fileid)), category)\n",
        "              for category in movie_reviews.categories()\n",
        "              for fileid in movie_reviews.fileids(category)]\n",
        "random.shuffle(documents)\n",
        "all_words = []\n",
        "for w in movie_reviews.words():\n",
        "  all_words.append(w.lower())\n",
        "\n",
        "all_words = nltk.FreqDist(all_words)\n",
        "word_features = list(all_words.keys())[:3000]\n",
        "\n",
        "def find_features(document):\n",
        "  words = set(document)\n",
        "  features = {}\n",
        "  for w in word_features:\n",
        "    features[w] = (w in words)\n",
        "  return features\n",
        "featuresets = [(find_features(rev), category) for (rev, category) in documents]\n",
        "\n",
        "training_set = featuresets[:1900]\n",
        "testing_set = featuresets[1900:]\n",
        "\n",
        "# classifier = nltk.NaiveBayesClassifier.train(training_set)\n",
        "\n",
        "classifier_f = open(\"naivebayes.pickle\", \"rb\")\n",
        "classifier = pickle.load(classifier_f)\n",
        "classifier_f.close()\n",
        "\n",
        "\n",
        "print(\"Naive Bayes accuracy: \", (nltk.classify.accuracy(classifier, testing_set) * 100))\n",
        "# shows most popular words for both pos and neg and wether they tend to be positive or negative\n",
        "classifier.show_most_informative_features(15)\n",
        "\n",
        "classifier_f = open(\"naivebayes.pickle\", \"rb\")\n",
        "classifier = pickle.load(classifier_f)\n",
        "classifier_f.close()\n",
        "\n",
        "\n",
        "print(\"Original Naive Bayes accuracy: \", (nltk.classify.accuracy(classifier, testing_set) * 100))\n",
        "classifier.show_most_informative_features(15)\n",
        "\n",
        "MNB_classifier = SklearnClassifier(MultinomialNB())\n",
        "MNB_classifier.train(training_set)\n",
        "print(\"Multinomial Naive Bayes classifier\", (nltk.classify.accuracy(MNB_classifier, testing_set) * 100))\n",
        "\n",
        "BernoulliNB_classifier = SklearnClassifier(BernoulliNB())\n",
        "BernoulliNB_classifier.train(training_set)\n",
        "print(\"Bernoulli Naive Bayes classifier accuracy percent\", (nltk.classify.accuracy(BernoulliNB_classifier, testing_set) * 100))\n",
        "\n",
        "LR_classifier = SklearnClassifier(LogisticRegression())\n",
        "LR_classifier.train(training_set)\n",
        "print(\"LogisticRegression classifier accuracy percent\", (nltk.classify.accuracy(LR_classifier, testing_set) * 100))\n",
        "\n",
        "SGD_classifier = SklearnClassifier(SGDClassifier())\n",
        "SGD_classifier.train(training_set)\n",
        "print(\"SDGClassifier classifier accuracy percent\", (nltk.classify.accuracy(SGD_classifier, testing_set) * 100))\n",
        "\n",
        "LSVC_classifier = SklearnClassifier(LinearSVC())\n",
        "LSVC_classifier.train(training_set)\n",
        "print(\"LinearSVC classifier accuracy percent\", (nltk.classify.accuracy(LSVC_classifier, testing_set) * 100))\n",
        "\n",
        "NuSVC_classifier = SklearnClassifier(NuSVC())\n",
        "NuSVC_classifier.train(training_set)\n",
        "print(\"NuSVC classifier accuracy percent\", (nltk.classify.accuracy(NuSVC_classifier, testing_set) * 100))\n",
        "\n",
        "voted_classifier = VoteClassifier(classifier, MNB_classifier, BernoulliNB_classifier, LR_classifier, SGD_classifier, LSVC_classifier, NuSVC_classifier)\n",
        "print(\"voted_classifier accuracy percent\", (nltk.classify.accuracy(voted_classifier, testing_set) * 100))\n",
        "\n",
        "print(\"Classification:\", voted_classifier.classify(testing_set[0][0]), \"Confidence %:\", voted_classifier.confidence(testing_set[0][0])* 100)\n",
        "print(\"Classification:\", voted_classifier.classify(testing_set[1][0]), \"Confidence %:\", voted_classifier.confidence(testing_set[1][0])* 100)\n",
        "print(\"Classification:\", voted_classifier.classify(testing_set[2][0]), \"Confidence %:\", voted_classifier.confidence(testing_set[2][0])* 100)\n",
        "print(\"Classification:\", voted_classifier.classify(testing_set[3][0]), \"Confidence %:\", voted_classifier.confidence(testing_set[3][0])* 100)\n",
        "print(\"Classification:\", voted_classifier.classify(testing_set[4][0]), \"Confidence %:\", voted_classifier.confidence(testing_set[4][0])* 100)\n",
        "print(\"Classification:\", voted_classifier.classify(testing_set[5][0]), \"Confidence %:\", voted_classifier.confidence(testing_set[5][0])* 100)"
      ],
      "outputs": [
        {
          "output_type": "stream",
          "name": "stdout",
          "text": [
            "Naive Bayes accuracy:  86.0\n",
            "Most Informative Features\n",
            "                   sucks = True              neg : pos    =     10.4 : 1.0\n",
            "                  annual = True              pos : neg    =      9.9 : 1.0\n",
            "                 frances = True              pos : neg    =      9.2 : 1.0\n",
            "           unimaginative = True              neg : pos    =      8.2 : 1.0\n",
            "                  regard = True              pos : neg    =      7.1 : 1.0\n",
            "                 idiotic = True              neg : pos    =      7.1 : 1.0\n",
            "                    mena = True              neg : pos    =      6.9 : 1.0\n",
            "             silverstone = True              neg : pos    =      6.9 : 1.0\n",
            "                  suvari = True              neg : pos    =      6.9 : 1.0\n",
            "                obstacle = True              pos : neg    =      6.5 : 1.0\n",
            "                 singers = True              pos : neg    =      6.5 : 1.0\n",
            "                  turkey = True              neg : pos    =      6.4 : 1.0\n",
            "                 jumbled = True              neg : pos    =      6.2 : 1.0\n",
            "                 kidding = True              neg : pos    =      6.2 : 1.0\n",
            "                  shoddy = True              neg : pos    =      6.2 : 1.0\n",
            "Original Naive Bayes accuracy:  86.0\n",
            "Most Informative Features\n",
            "                   sucks = True              neg : pos    =     10.4 : 1.0\n",
            "                  annual = True              pos : neg    =      9.9 : 1.0\n",
            "                 frances = True              pos : neg    =      9.2 : 1.0\n",
            "           unimaginative = True              neg : pos    =      8.2 : 1.0\n",
            "                  regard = True              pos : neg    =      7.1 : 1.0\n",
            "                 idiotic = True              neg : pos    =      7.1 : 1.0\n",
            "                    mena = True              neg : pos    =      6.9 : 1.0\n",
            "             silverstone = True              neg : pos    =      6.9 : 1.0\n",
            "                  suvari = True              neg : pos    =      6.9 : 1.0\n",
            "                obstacle = True              pos : neg    =      6.5 : 1.0\n",
            "                 singers = True              pos : neg    =      6.5 : 1.0\n",
            "                  turkey = True              neg : pos    =      6.4 : 1.0\n",
            "                 jumbled = True              neg : pos    =      6.2 : 1.0\n",
            "                 kidding = True              neg : pos    =      6.2 : 1.0\n",
            "                  shoddy = True              neg : pos    =      6.2 : 1.0\n",
            "Multinomial Naive Bayes classifier 82.0\n",
            "Bernoulli Naive Bayes classifier accuracy percent 83.0\n"
          ]
        },
        {
          "output_type": "stream",
          "name": "stderr",
          "text": [
            "/Users/amsua/opt/anaconda3/lib/python3.8/site-packages/sklearn/linear_model/_logistic.py:762: ConvergenceWarning: lbfgs failed to converge (status=1):\n",
            "STOP: TOTAL NO. of ITERATIONS REACHED LIMIT.\n",
            "\n",
            "Increase the number of iterations (max_iter) or scale the data as shown in:\n",
            "    https://scikit-learn.org/stable/modules/preprocessing.html\n",
            "Please also refer to the documentation for alternative solver options:\n",
            "    https://scikit-learn.org/stable/modules/linear_model.html#logistic-regression\n",
            "  n_iter_i = _check_optimize_result(\n"
          ]
        },
        {
          "output_type": "stream",
          "name": "stdout",
          "text": [
            "LogisticRegression classifier accuracy percent 80.0\n",
            "SDGClassifier classifier accuracy percent 81.0\n",
            "LinearSVC classifier accuracy percent 82.0\n",
            "NuSVC classifier accuracy percent 85.0\n",
            "voted_classifier accuracy percent 85.0\n",
            "Classification: neg Confidence %: 100.0\n",
            "Classification: neg Confidence %: 100.0\n",
            "Classification: pos Confidence %: 100.0\n",
            "Classification: pos Confidence %: 100.0\n",
            "Classification: neg Confidence %: 100.0\n",
            "Classification: neg Confidence %: 71.42857142857143\n"
          ]
        }
      ],
      "metadata": {}
    },
    {
      "cell_type": "code",
      "execution_count": null,
      "source": [],
      "outputs": [],
      "metadata": {}
    }
  ]
}